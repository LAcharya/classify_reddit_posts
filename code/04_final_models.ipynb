{
 "cells": [
  {
   "cell_type": "markdown",
   "id": "c4ab2a2a-8dc6-4e2b-ac23-62cceb110e2a",
   "metadata": {},
   "source": [
    "# Final Model Testing on Modified Data"
   ]
  },
  {
   "cell_type": "markdown",
   "id": "f8b8b5a5-db71-492d-97d2-0421bdc112ed",
   "metadata": {},
   "source": [
    "In this notebook, I modify my dataset by removing stop words and unique, identifying keywords from each subreddit. I then train and test the optimized models from the previous notebooks on this modified dataset"
   ]
  },
  {
   "cell_type": "code",
   "execution_count": 13,
   "id": "91187d39-f6ed-4603-b1c4-6da60fedbdd7",
   "metadata": {},
   "outputs": [],
   "source": [
    "import pandas as pd\n",
    "import reddit_functions as rf\n",
    "import matplotlib.pyplot as plt\n",
    "import seaborn as sns\n",
    "\n",
    "from sklearn.feature_extraction.text import CountVectorizer, TfidfVectorizer\n",
    "from sklearn.model_selection import train_test_split, GridSearchCV\n",
    "from sklearn.pipeline import Pipeline\n",
    "from sklearn.linear_model import LogisticRegression\n",
    "from sklearn.metrics import plot_confusion_matrix, confusion_matrix\n",
    "from sklearn.preprocessing import StandardScaler\n",
    "from sklearn.svm import SVC\n",
    "from sklearn.ensemble import (AdaBoostClassifier, GradientBoostingClassifier, VotingClassifier)\n",
    "from sklearn.tree import DecisionTreeClassifier\n",
    "from sklearn.naive_bayes import MultinomialNB"
   ]
  },
  {
   "cell_type": "markdown",
   "id": "83ccfb70-dd7a-4431-8818-4b4627f70ad8",
   "metadata": {},
   "source": [
    "## Find the top twenty words that appear in each subreddit but not the other, and add them to stopwords"
   ]
  },
  {
   "cell_type": "code",
   "execution_count": 2,
   "id": "5853a999-2d72-45af-aad0-07afe7570d88",
   "metadata": {},
   "outputs": [
    {
     "data": {
      "text/html": [
       "<div>\n",
       "<style scoped>\n",
       "    .dataframe tbody tr th:only-of-type {\n",
       "        vertical-align: middle;\n",
       "    }\n",
       "\n",
       "    .dataframe tbody tr th {\n",
       "        vertical-align: top;\n",
       "    }\n",
       "\n",
       "    .dataframe thead th {\n",
       "        text-align: right;\n",
       "    }\n",
       "</style>\n",
       "<table border=\"1\" class=\"dataframe\">\n",
       "  <thead>\n",
       "    <tr style=\"text-align: right;\">\n",
       "      <th></th>\n",
       "      <th>subreddit</th>\n",
       "      <th>title</th>\n",
       "      <th>selftext</th>\n",
       "      <th>created_utc</th>\n",
       "      <th>num_comments</th>\n",
       "      <th>post_length</th>\n",
       "    </tr>\n",
       "  </thead>\n",
       "  <tbody>\n",
       "    <tr>\n",
       "      <th>0</th>\n",
       "      <td>0</td>\n",
       "      <td>Update from my post about my coworker</td>\n",
       "      <td>Here is the original [post](https://www.reddit...</td>\n",
       "      <td>1648499626</td>\n",
       "      <td>0</td>\n",
       "      <td>189</td>\n",
       "    </tr>\n",
       "    <tr>\n",
       "      <th>1</th>\n",
       "      <td>0</td>\n",
       "      <td>You’re forcing me!</td>\n",
       "      <td>So, for context, I work at a 3-star-ish busine...</td>\n",
       "      <td>1648471124</td>\n",
       "      <td>0</td>\n",
       "      <td>501</td>\n",
       "    </tr>\n",
       "    <tr>\n",
       "      <th>2</th>\n",
       "      <td>0</td>\n",
       "      <td>“I actually have to read what I’m signing for?”</td>\n",
       "      <td>So this literally happened as I’m walking in a...</td>\n",
       "      <td>1648445630</td>\n",
       "      <td>0</td>\n",
       "      <td>305</td>\n",
       "    </tr>\n",
       "    <tr>\n",
       "      <th>3</th>\n",
       "      <td>0</td>\n",
       "      <td>The Straw(s) That Broke the Camel's Back</td>\n",
       "      <td>Hey guys, it's been a while since I've posted....</td>\n",
       "      <td>1648441064</td>\n",
       "      <td>0</td>\n",
       "      <td>1185</td>\n",
       "    </tr>\n",
       "    <tr>\n",
       "      <th>4</th>\n",
       "      <td>0</td>\n",
       "      <td>DM Report Ideas?</td>\n",
       "      <td>Hello Front Desk,\\n\\nApologies if this is agai...</td>\n",
       "      <td>1648435782</td>\n",
       "      <td>0</td>\n",
       "      <td>179</td>\n",
       "    </tr>\n",
       "  </tbody>\n",
       "</table>\n",
       "</div>"
      ],
      "text/plain": [
       "   subreddit                                            title  \\\n",
       "0          0            Update from my post about my coworker   \n",
       "1          0                               You’re forcing me!   \n",
       "2          0  “I actually have to read what I’m signing for?”   \n",
       "3          0         The Straw(s) That Broke the Camel's Back   \n",
       "4          0                                 DM Report Ideas?   \n",
       "\n",
       "                                            selftext  created_utc  \\\n",
       "0  Here is the original [post](https://www.reddit...   1648499626   \n",
       "1  So, for context, I work at a 3-star-ish busine...   1648471124   \n",
       "2  So this literally happened as I’m walking in a...   1648445630   \n",
       "3  Hey guys, it's been a while since I've posted....   1648441064   \n",
       "4  Hello Front Desk,\\n\\nApologies if this is agai...   1648435782   \n",
       "\n",
       "   num_comments  post_length  \n",
       "0             0          189  \n",
       "1             0          501  \n",
       "2             0          305  \n",
       "3             0         1185  \n",
       "4             0          179  "
      ]
     },
     "execution_count": 2,
     "metadata": {},
     "output_type": "execute_result"
    }
   ],
   "source": [
    "# import data\n",
    "red_df = pd.read_csv('../data/all_posts_cleaned.csv')\n",
    "red_df.head()"
   ]
  },
  {
   "cell_type": "code",
   "execution_count": 3,
   "id": "2481ffb8-e62a-449d-adac-47426d446a13",
   "metadata": {},
   "outputs": [
    {
     "data": {
      "text/html": [
       "<div>\n",
       "<style scoped>\n",
       "    .dataframe tbody tr th:only-of-type {\n",
       "        vertical-align: middle;\n",
       "    }\n",
       "\n",
       "    .dataframe tbody tr th {\n",
       "        vertical-align: top;\n",
       "    }\n",
       "\n",
       "    .dataframe thead th {\n",
       "        text-align: right;\n",
       "    }\n",
       "</style>\n",
       "<table border=\"1\" class=\"dataframe\">\n",
       "  <thead>\n",
       "    <tr style=\"text-align: right;\">\n",
       "      <th></th>\n",
       "      <th>amp</th>\n",
       "      <th>ask</th>\n",
       "      <th>asked</th>\n",
       "      <th>boss</th>\n",
       "      <th>called</th>\n",
       "      <th>calls</th>\n",
       "      <th>came</th>\n",
       "      <th>card</th>\n",
       "      <th>check</th>\n",
       "      <th>come</th>\n",
       "      <th>...</th>\n",
       "      <th>wasn</th>\n",
       "      <th>way</th>\n",
       "      <th>week</th>\n",
       "      <th>went</th>\n",
       "      <th>work</th>\n",
       "      <th>working</th>\n",
       "      <th>x200b</th>\n",
       "      <th>years</th>\n",
       "      <th>yes</th>\n",
       "      <th>subreddit</th>\n",
       "    </tr>\n",
       "  </thead>\n",
       "  <tbody>\n",
       "    <tr>\n",
       "      <th>0</th>\n",
       "      <td>2</td>\n",
       "      <td>0</td>\n",
       "      <td>0</td>\n",
       "      <td>0</td>\n",
       "      <td>0</td>\n",
       "      <td>0</td>\n",
       "      <td>0</td>\n",
       "      <td>0</td>\n",
       "      <td>0</td>\n",
       "      <td>0</td>\n",
       "      <td>...</td>\n",
       "      <td>0</td>\n",
       "      <td>0</td>\n",
       "      <td>0</td>\n",
       "      <td>0</td>\n",
       "      <td>0</td>\n",
       "      <td>0</td>\n",
       "      <td>0</td>\n",
       "      <td>0</td>\n",
       "      <td>0</td>\n",
       "      <td>0</td>\n",
       "    </tr>\n",
       "    <tr>\n",
       "      <th>1</th>\n",
       "      <td>0</td>\n",
       "      <td>0</td>\n",
       "      <td>0</td>\n",
       "      <td>0</td>\n",
       "      <td>1</td>\n",
       "      <td>0</td>\n",
       "      <td>0</td>\n",
       "      <td>0</td>\n",
       "      <td>2</td>\n",
       "      <td>0</td>\n",
       "      <td>...</td>\n",
       "      <td>0</td>\n",
       "      <td>1</td>\n",
       "      <td>0</td>\n",
       "      <td>0</td>\n",
       "      <td>2</td>\n",
       "      <td>0</td>\n",
       "      <td>0</td>\n",
       "      <td>0</td>\n",
       "      <td>0</td>\n",
       "      <td>0</td>\n",
       "    </tr>\n",
       "    <tr>\n",
       "      <th>2</th>\n",
       "      <td>0</td>\n",
       "      <td>3</td>\n",
       "      <td>1</td>\n",
       "      <td>0</td>\n",
       "      <td>1</td>\n",
       "      <td>1</td>\n",
       "      <td>1</td>\n",
       "      <td>0</td>\n",
       "      <td>6</td>\n",
       "      <td>0</td>\n",
       "      <td>...</td>\n",
       "      <td>2</td>\n",
       "      <td>0</td>\n",
       "      <td>0</td>\n",
       "      <td>0</td>\n",
       "      <td>0</td>\n",
       "      <td>0</td>\n",
       "      <td>0</td>\n",
       "      <td>0</td>\n",
       "      <td>0</td>\n",
       "      <td>0</td>\n",
       "    </tr>\n",
       "    <tr>\n",
       "      <th>3</th>\n",
       "      <td>0</td>\n",
       "      <td>1</td>\n",
       "      <td>0</td>\n",
       "      <td>0</td>\n",
       "      <td>1</td>\n",
       "      <td>2</td>\n",
       "      <td>1</td>\n",
       "      <td>2</td>\n",
       "      <td>2</td>\n",
       "      <td>2</td>\n",
       "      <td>...</td>\n",
       "      <td>0</td>\n",
       "      <td>2</td>\n",
       "      <td>0</td>\n",
       "      <td>1</td>\n",
       "      <td>1</td>\n",
       "      <td>1</td>\n",
       "      <td>0</td>\n",
       "      <td>0</td>\n",
       "      <td>0</td>\n",
       "      <td>0</td>\n",
       "    </tr>\n",
       "    <tr>\n",
       "      <th>4</th>\n",
       "      <td>1</td>\n",
       "      <td>1</td>\n",
       "      <td>0</td>\n",
       "      <td>0</td>\n",
       "      <td>0</td>\n",
       "      <td>0</td>\n",
       "      <td>0</td>\n",
       "      <td>0</td>\n",
       "      <td>0</td>\n",
       "      <td>0</td>\n",
       "      <td>...</td>\n",
       "      <td>0</td>\n",
       "      <td>0</td>\n",
       "      <td>0</td>\n",
       "      <td>0</td>\n",
       "      <td>2</td>\n",
       "      <td>0</td>\n",
       "      <td>0</td>\n",
       "      <td>0</td>\n",
       "      <td>0</td>\n",
       "      <td>0</td>\n",
       "    </tr>\n",
       "  </tbody>\n",
       "</table>\n",
       "<p>5 rows × 101 columns</p>\n",
       "</div>"
      ],
      "text/plain": [
       "   amp  ask  asked  boss  called  calls  came  card  check  come  ...  wasn  \\\n",
       "0    2    0      0     0       0      0     0     0      0     0  ...     0   \n",
       "1    0    0      0     0       1      0     0     0      2     0  ...     0   \n",
       "2    0    3      1     0       1      1     1     0      6     0  ...     2   \n",
       "3    0    1      0     0       1      2     1     2      2     2  ...     0   \n",
       "4    1    1      0     0       0      0     0     0      0     0  ...     0   \n",
       "\n",
       "   way  week  went  work  working  x200b  years  yes  subreddit  \n",
       "0    0     0     0     0        0      0      0    0          0  \n",
       "1    1     0     0     2        0      0      0    0          0  \n",
       "2    0     0     0     0        0      0      0    0          0  \n",
       "3    2     0     1     1        1      0      0    0          0  \n",
       "4    0     0     0     2        0      0      0    0          0  \n",
       "\n",
       "[5 rows x 101 columns]"
      ]
     },
     "execution_count": 3,
     "metadata": {},
     "output_type": "execute_result"
    }
   ],
   "source": [
    "cvec = CountVectorizer(stop_words='english', max_features=100)\n",
    "vectorized = cvec.fit_transform(red_df['selftext'])\n",
    "vectorized_df = pd.DataFrame(data=vectorized.todense(), columns=cvec.get_feature_names())\n",
    "vectorized_df = pd.concat([vectorized_df, red_df[['subreddit']]], axis=1)\n",
    "vectorized_df.head()"
   ]
  },
  {
   "cell_type": "code",
   "execution_count": 4,
   "id": "3d08bbb5-3fc4-4365-8c9a-32d17d93401e",
   "metadata": {},
   "outputs": [
    {
     "data": {
      "text/plain": [
       "room       12513\n",
       "just       10756\n",
       "hotel       7473\n",
       "like        7002\n",
       "guest       5791\n",
       "night       5673\n",
       "don         5649\n",
       "know        5500\n",
       "desk        5204\n",
       "time        5188\n",
       "check       4799\n",
       "people      4611\n",
       "said        4289\n",
       "going       4067\n",
       "told        3929\n",
       "work        3682\n",
       "didn        3637\n",
       "ve          3590\n",
       "day         3588\n",
       "got         3508\n",
       "tell        3363\n",
       "rooms       3345\n",
       "phone       3235\n",
       "did         3211\n",
       "guests      3123\n",
       "guy         3115\n",
       "need        3111\n",
       "come        3104\n",
       "manager     3005\n",
       "card        2986\n",
       "want        2808\n",
       "make        2758\n",
       "let         2717\n",
       "right       2621\n",
       "ll          2617\n",
       "shift       2589\n",
       "really      2484\n",
       "door        2480\n",
       "minutes     2368\n",
       "way         2365\n",
       "came        2306\n",
       "ask         2303\n",
       "sure        2288\n",
       "asked       2265\n",
       "left        2239\n",
       "say         2214\n",
       "called      2209\n",
       "later       2173\n",
       "went        2135\n",
       "good        2044\n",
       "dtype: int64"
      ]
     },
     "execution_count": 4,
     "metadata": {},
     "output_type": "execute_result"
    }
   ],
   "source": [
    "sub_0 = vectorized_df.groupby('subreddit').get_group(0)\n",
    "sub_0_most_common = sub_0.drop(columns='subreddit').sum().sort_values(ascending=False).head(50)\n",
    "sub_0_most_common"
   ]
  },
  {
   "cell_type": "code",
   "execution_count": 5,
   "id": "546150b4-ee79-4de7-9a12-8fa326cd474e",
   "metadata": {},
   "outputs": [
    {
     "data": {
      "text/plain": [
       "just        8722\n",
       "gt          7013\n",
       "time        5934\n",
       "work        5805\n",
       "user        5270\n",
       "know        4770\n",
       "like        4732\n",
       "new         4491\n",
       "don         4334\n",
       "computer    4217\n",
       "company     4076\n",
       "got         4013\n",
       "did         3814\n",
       "phone       3803\n",
       "need        3754\n",
       "day         3754\n",
       "working     3522\n",
       "support     3512\n",
       "amp         3313\n",
       "didn        3230\n",
       "tech        3154\n",
       "office      3121\n",
       "going       3049\n",
       "customer    3007\n",
       "help        3001\n",
       "issue       2937\n",
       "email       2854\n",
       "ve          2732\n",
       "x200b       2706\n",
       "problem     2660\n",
       "ll          2632\n",
       "said        2625\n",
       "right       2607\n",
       "people      2562\n",
       "sure        2428\n",
       "told        2408\n",
       "use         2362\n",
       "manager     2312\n",
       "make        2270\n",
       "good        2262\n",
       "let         2261\n",
       "guy         2229\n",
       "look        2226\n",
       "way         2124\n",
       "boss        2099\n",
       "later       2055\n",
       "years       2053\n",
       "tell        2053\n",
       "really      2018\n",
       "job         2013\n",
       "dtype: int64"
      ]
     },
     "execution_count": 5,
     "metadata": {},
     "output_type": "execute_result"
    }
   ],
   "source": [
    "sub_1 = vectorized_df.groupby('subreddit').get_group(1)\n",
    "sub_1_most_common = sub_1.drop(columns='subreddit').sum().sort_values(ascending=False).head(50)\n",
    "sub_1_most_common"
   ]
  },
  {
   "cell_type": "code",
   "execution_count": 6,
   "id": "0ded5035-3d68-49ca-b49c-5fd01e051a58",
   "metadata": {},
   "outputs": [
    {
     "data": {
      "text/plain": [
       "{'ask',\n",
       " 'asked',\n",
       " 'called',\n",
       " 'came',\n",
       " 'card',\n",
       " 'check',\n",
       " 'come',\n",
       " 'desk',\n",
       " 'door',\n",
       " 'guest',\n",
       " 'guests',\n",
       " 'hotel',\n",
       " 'left',\n",
       " 'minutes',\n",
       " 'night',\n",
       " 'room',\n",
       " 'rooms',\n",
       " 'say',\n",
       " 'shift',\n",
       " 'want',\n",
       " 'went'}"
      ]
     },
     "execution_count": 6,
     "metadata": {},
     "output_type": "execute_result"
    }
   ],
   "source": [
    "sub_0_unique = set(sub_0_most_common.index).difference(set(sub_1_most_common.index))\n",
    "sub_0_unique"
   ]
  },
  {
   "cell_type": "code",
   "execution_count": 7,
   "id": "d90bbbab-b274-40da-ae0f-da1b5979fdec",
   "metadata": {},
   "outputs": [
    {
     "data": {
      "text/plain": [
       "{'amp',\n",
       " 'boss',\n",
       " 'company',\n",
       " 'computer',\n",
       " 'customer',\n",
       " 'email',\n",
       " 'gt',\n",
       " 'help',\n",
       " 'issue',\n",
       " 'job',\n",
       " 'look',\n",
       " 'new',\n",
       " 'office',\n",
       " 'problem',\n",
       " 'support',\n",
       " 'tech',\n",
       " 'use',\n",
       " 'user',\n",
       " 'working',\n",
       " 'x200b',\n",
       " 'years'}"
      ]
     },
     "execution_count": 7,
     "metadata": {},
     "output_type": "execute_result"
    }
   ],
   "source": [
    "sub_1_unique = set(sub_1_most_common.index).difference(set(sub_0_most_common.index))\n",
    "sub_1_unique\n"
   ]
  },
  {
   "cell_type": "code",
   "execution_count": 8,
   "id": "7d10bcef-6e51-4336-b4da-b764ddcab650",
   "metadata": {},
   "outputs": [
    {
     "data": {
      "text/plain": [
       "2362"
      ]
     },
     "execution_count": 8,
     "metadata": {},
     "output_type": "execute_result"
    }
   ],
   "source": [
    "sub_1_most_common[sub_1_most_common.index=='use'].values[0]"
   ]
  },
  {
   "cell_type": "markdown",
   "id": "4f7f4c6e-8b9e-4965-b1b5-e5b273e33429",
   "metadata": {},
   "source": [
    "**add all these words to english stopwords**"
   ]
  },
  {
   "cell_type": "code",
   "execution_count": 62,
   "id": "b55007b1-e8c9-4e77-88f3-aa206365fd08",
   "metadata": {},
   "outputs": [],
   "source": [
    "from sklearn.feature_extraction import text \n",
    "\n",
    "add_words = sub_0_unique.union(sub_1_unique)\n",
    "stop_words = text.ENGLISH_STOP_WORDS.union(add_words)"
   ]
  },
  {
   "cell_type": "code",
   "execution_count": 63,
   "id": "be901164-34ae-499f-98f0-65b2ae78fcce",
   "metadata": {},
   "outputs": [
    {
     "name": "stdout",
     "output_type": "stream",
     "text": [
      "frozenset({'wherever', 'hereby', 'another', 'every', 'indeed', 'though', 'you', 'out', 'because', 'is', 'has', 'afterwards', 'nobody', 'me', 'around', 'co', 'fifty', 'whoever', 'get', 'can', 'serious', 'been', 'more', 'here', 'meanwhile', 'they', 'whereupon', 'twelve', 'side', 'few', 'amount', 'seem', 'thru', 'my', 'but', 'whether', 'becoming', 'toward', 'hereupon', 'into', 'either', 'always', 'less', 'find', 'done', 'at', 'go', 'below', 'we', 'well', 'fifteen', 'whence', 'mine', 'since', 'per', 'him', 'a', 'where', 'cry', 'could', 'although', 'anywhere', 'very', 'describe', 'not', 'any', 'who', 'with', 'via', 'thereafter', 'ltd', 'while', 'across', 'rather', 'seems', 'first', 'something', 'himself', 'five', 'us', 'due', 'wherein', 'con', 'from', 'take', 'somehow', 'found', 'sincere', 'some', 'ever', 'eg', 'between', 'still', 'only', 'her', 'together', 'hundred', 'whereas', 'those', 'much', 'whenever', 'about', 'former', 'also', 'beyond', 'whole', 'ourselves', 'may', 're', 'now', 'beside', 'most', 'she', 'hence', 'four', 'detail', 'moreover', 'off', 'six', 'inc', 'hasnt', 'before', 'for', 'all', 'etc', 'yourself', 'were', 'everything', 'last', 'part', 'behind', 'three', 'becomes', 'many', 'against', 'themselves', 'when', 'towards', 'his', 'namely', 'everyone', 'several', 'however', 'one', 'down', 'cannot', 'anyway', 'itself', 'anything', 'without', 'please', 'elsewhere', 'own', 'have', 'anyhow', 'two', 'fill', 'which', 'or', 'do', 'eight', 'thereupon', 'our', 'bottom', 'thin', 'formerly', 'nine', 'through', 'each', 'else', 'so', 'in', 'again', 'was', 'such', 'than', 'myself', 'onto', 'already', 'give', 'an', 'ie', 'whereafter', 'un', 'see', 'became', 'almost', 'eleven', 'empty', 'forty', 'twenty', 'often', 'might', 'what', 'never', 'seemed', 'sometime', 'therefore', 'made', 'de', 'perhaps', 'it', 'am', 'whatever', 'too', 'will', 'least', 'amongst', 'this', 'ours', 'both', 'top', 'everywhere', 'seeming', 'move', 'couldnt', 'upon', 'whither', 'the', 'nevertheless', 'put', 'someone', 'why', 'by', 'mostly', 'to', 'name', 'on', 'back', 'beforehand', 'except', 'of', 'up', 'neither', 'herself', 'until', 'thereby', 'same', 'are', 'full', 'throughout', 'hers', 'would', 'amoungst', 'ten', 'keep', 'thence', 'nothing', 'front', 'further', 'other', 'nowhere', 'its', 'noone', 'whose', 'become', 'whom', 'show', 'under', 'as', 'that', 'system', 'latter', 'during', 'mill', 'above', 'enough', 'had', 'there', 'alone', 'then', 'he', 'yet', 'sometimes', 'next', 'how', 'third', 'sixty', 'bill', 'others', 'nor', 'interest', 'should', 'yourselves', 'whereby', 'after', 'them', 'these', 'i', 'therein', 'none', 'anyone', 'being', 'their', 'besides', 'even', 'fire', 'thus', 'along', 'otherwise', 'be', 'no', 'thick', 'somewhere', 'and', 'your', 'yours', 'within', 'herein', 'over', 'cant', 'must', 'once', 'latterly', 'among', 'call', 'hereafter', 'if'})\n"
     ]
    }
   ],
   "source": [
    "print(text.ENGLISH_STOP_WORDS)"
   ]
  },
  {
   "cell_type": "code",
   "execution_count": 64,
   "id": "ac13f222-a9d0-4d78-8f10-7733ce779620",
   "metadata": {},
   "outputs": [
    {
     "name": "stdout",
     "output_type": "stream",
     "text": [
      "frozenset({'wherever', 'thin', 'hereby', 'another', 'every', 'indeed', 'though', 'formerly', 'you', 'out', 'guests', 'shift', 'because', 'is', 'has', 'nine', 'tech', 'afterwards', 'through', 'nobody', 'each', 'email', 'me', 'around', 'co', 'else', 'fifty', 'so', 'ask', 'whoever', 'get', 'in', 'gt', 'again', 'was', 'can', 'such', 'than', 'serious', 'myself', 'onto', 'been', 'more', 'already', 'give', 'working', 'here', 'an', 'meanwhile', 'ie', 'whereafter', 'card', 'they', 'un', 'whereupon', 'see', 'became', 'twelve', 'x200b', 'side', 'almost', 'few', 'eleven', 'amount', 'empty', 'seem', 'thru', 'my', 'forty', 'but', 'whether', 'years', 'becoming', 'toward', 'twenty', 'office', 'often', 'hereupon', 'into', 'either', 'always', 'might', 'new', 'less', 'boss', 'find', 'what', 'never', 'use', 'done', 'seemed', 'at', 'go', 'sometime', 'therefore', 'hotel', 'made', 'below', 'we', 'de', 'perhaps', 'well', 'it', 'fifteen', 'whence', 'am', 'whatever', 'too', 'will', 'least', 'mine', 'since', 'amongst', 'per', 'him', 'this', 'room', 'a', 'where', 'cry', 'could', 'ours', 'both', 'although', 'top', 'problem', 'everywhere', 'anywhere', 'seeming', 'night', 'very', 'move', 'couldnt', 'upon', 'describe', 'not', 'any', 'who', 'with', 'whither', 'the', 'nevertheless', 'put', 'via', 'thereafter', 'ltd', 'someone', 'say', 'while', 'why', 'come', 'across', 'rather', 'by', 'seems', 'mostly', 'to', 'first', 'something', 'name', 'himself', 'five', 'us', 'on', 'due', 'back', 'beforehand', 'except', 'of', 'computer', 'up', 'neither', 'herself', 'until', 'wherein', 'thereby', 'con', 'from', 'same', 'are', 'customer', 'full', 'throughout', 'went', 'take', 'hers', 'would', 'amoungst', 'somehow', 'ten', 'found', 'keep', 'thence', 'nothing', 'front', 'further', 'door', 'sincere', 'other', 'nowhere', 'some', 'its', 'noone', 'ever', 'whose', 'eg', 'become', 'between', 'still', 'whom', 'show', 'under', 'as', 'only', 'that', 'system', 'her', 'latter', 'during', 'together', 'mill', 'above', 'hundred', 'whereas', 'enough', 'had', 'those', 'much', 'whenever', 'minutes', 'there', 'alone', 'about', 'then', 'former', 'also', 'he', 'called', 'yet', 'amp', 'beyond', 'whole', 'ourselves', 'may', 'asked', 're', 'left', 'job', 'now', 'beside', 'most', 'she', 'sometimes', 'next', 'how', 'third', 'came', 'support', 'sixty', 'guest', 'bill', 'others', 'hence', 'four', 'nor', 'detail', 'moreover', 'off', 'interest', 'six', 'inc', 'hasnt', 'before', 'for', 'all', 'should', 'etc', 'yourself', 'were', 'everything', 'desk', 'last', 'yourselves', 'user', 'part', 'check', 'whereby', 'behind', 'after', 'three', 'them', 'becomes', 'these', 'i', 'therein', 'many', 'none', 'look', 'against', 'themselves', 'issue', 'help', 'when', 'anyone', 'towards', 'being', 'his', 'their', 'namely', 'besides', 'everyone', 'even', 'fire', 'several', 'thus', 'along', 'otherwise', 'however', 'one', 'down', 'cannot', 'be', 'rooms', 'anyway', 'company', 'no', 'thick', 'itself', 'somewhere', 'anything', 'and', 'without', 'want', 'please', 'your', 'elsewhere', 'yours', 'own', 'within', 'have', 'herein', 'anyhow', 'over', 'cant', 'must', 'two', 'fill', 'which', 'or', 'do', 'once', 'latterly', 'among', 'call', 'eight', 'thereupon', 'our', 'hereafter', 'if', 'bottom'})\n"
     ]
    }
   ],
   "source": [
    "print(stop_words)"
   ]
  },
  {
   "cell_type": "markdown",
   "id": "30b93f61-3faf-439e-a99c-ab0741a30d04",
   "metadata": {},
   "source": [
    "**Visualizations of unique top words for each subreddit**"
   ]
  },
  {
   "cell_type": "code",
   "execution_count": 10,
   "id": "6e430d8c-aeb6-420d-a0c8-f6e64072de1d",
   "metadata": {},
   "outputs": [],
   "source": [
    "sub_1_unique_pd = pd.Series(index=list(sub_1_unique), \n",
    "                            data=[sub_1_most_common[sub_1_most_common.index==word].values[0] for word in sub_1_unique]).sort_values(ascending=False)\n",
    "sub_0_unique_pd = pd.Series(index=list(sub_0_unique),\n",
    "                            data=[sub_0_most_common[sub_0_most_common.index==word].values[0] for word in sub_0_unique]).sort_values(ascending=False)"
   ]
  },
  {
   "cell_type": "code",
   "execution_count": 11,
   "id": "d6e19556-3b88-4e83-8c80-f28ac8201d33",
   "metadata": {},
   "outputs": [
    {
     "data": {
      "image/png": "[encoded data removed]",
      "text/plain": [
       "<Figure size 864x360 with 2 Axes>"
      ]
     },
     "metadata": {
      "needs_background": "light"
     },
     "output_type": "display_data"
    }
   ],
   "source": [
    "fig, ax = plt.subplots(1, 2, figsize=(12,5))\n",
    "fig.suptitle('Counts of top 21 words used in each subreddit that are not in the top 50 words of the other'.title())\n",
    "\n",
    "sns.barplot(x=sub_0_unique_pd.values, y=sub_0_unique_pd.index, ax=ax[0])\n",
    "ax[0].set_xlabel('Word Counts')\n",
    "ax[0].set_title('Subreddit: r/TalesFromTheFrontDesk')\n",
    "\n",
    "sns.barplot(x=sub_1_unique_pd.values, y=sub_1_unique_pd.index, ax=ax[1])\n",
    "ax[1].set_xlabel('Word Counts')\n",
    "ax[1].set_title('Subreddit: r/talesfromtechsupport');\n",
    "\n",
    "plt.savefig('../figures/top_words.png', dpi=300, bbox_inches = \"tight\")"
   ]
  },
  {
   "cell_type": "markdown",
   "id": "c4d329bc-6cba-403b-a23e-372ba64052d6",
   "metadata": {},
   "source": [
    "## Now, rerun all the models on text with these words removed"
   ]
  },
  {
   "cell_type": "markdown",
   "id": "75e1fb1c-3158-4b86-9897-dc8f271cc996",
   "metadata": {
    "tags": []
   },
   "source": [
    "### Import train and test sets"
   ]
  },
  {
   "cell_type": "code",
   "execution_count": 15,
   "id": "505ebf42-1a5b-47a3-b7fa-8486410a8674",
   "metadata": {},
   "outputs": [],
   "source": [
    "# import data\n",
    "X_train = pd.read_csv('../data/train_test_sets/X_train.csv')\n",
    "X_train = X_train['selftext'] # convert from dataframe to series\n",
    "\n",
    "X_test = pd.read_csv('../data/train_test_sets/X_test.csv')\n",
    "X_test = X_test['selftext'] # convert from dataframe to series\n",
    "\n",
    "y_train = pd.read_csv('../data/train_test_sets/y_train.csv')\n",
    "y_train = y_train['subreddit'] # convert from dataframe to series\n",
    "\n",
    "y_test = pd.read_csv('../data/train_test_sets/y_test.csv')\n",
    "y_test = y_test['subreddit'] # convert from dataframe to series "
   ]
  },
  {
   "cell_type": "markdown",
   "id": "557f4f9e-3b9b-480a-8f78-d4db5aa21c9b",
   "metadata": {},
   "source": [
    "### Logistic Regression"
   ]
  },
  {
   "cell_type": "code",
   "execution_count": 16,
   "id": "9fa3dda7-d203-4f55-b9fe-8b23b47b6ece",
   "metadata": {},
   "outputs": [
    {
     "name": "stdout",
     "output_type": "stream",
     "text": [
      "Best Score: 0.9754385964912281\n",
      "Best Parameters:\n"
     ]
    },
    {
     "data": {
      "text/plain": [
       "{'model__C': 1,\n",
       " 'model__penalty': 'l2',\n",
       " 'model__solver': 'liblinear',\n",
       " 'tvec__max_df': 0.8,\n",
       " 'tvec__max_features': None}"
      ]
     },
     "execution_count": 16,
     "metadata": {},
     "output_type": "execute_result"
    }
   ],
   "source": [
    "pipe = Pipeline([\n",
    "    ('tvec', TfidfVectorizer(stop_words=stop_words)),\n",
    "    ('model', LogisticRegression())\n",
    "])\n",
    "\n",
    "params = {\n",
    "     'model__C': [1],\n",
    "     'model__penalty': ['l2'],\n",
    "     'model__solver': ['liblinear'],\n",
    "     'tvec__max_df': [0.8],\n",
    "     'tvec__max_features': [None]\n",
    "}\n",
    "\n",
    "gs = GridSearchCV(pipe, params, cv=3, scoring='recall')\n",
    "gs.fit(X_train, y_train)\n",
    "\n",
    "print(f'Best Score: {gs.best_score_}')\n",
    "print(f'Best Parameters:')\n",
    "gs.best_params_"
   ]
  },
  {
   "cell_type": "code",
   "execution_count": 17,
   "id": "e11298be-8f44-4fcb-beee-b81255eacf24",
   "metadata": {},
   "outputs": [
    {
     "data": {
      "text/plain": [
       "0.9829467939972715"
      ]
     },
     "execution_count": 17,
     "metadata": {},
     "output_type": "execute_result"
    }
   ],
   "source": [
    "gs.score(X_test, y_test)"
   ]
  },
  {
   "cell_type": "code",
   "execution_count": 18,
   "id": "a68a3add-be94-486c-8437-6240222c7637",
   "metadata": {},
   "outputs": [],
   "source": [
    "preds_logreg = gs.predict(X_test)"
   ]
  },
  {
   "cell_type": "code",
   "execution_count": 19,
   "id": "20d6675f-6503-4f9b-a5f6-b8dc2944ce33",
   "metadata": {},
   "outputs": [
    {
     "data": {
      "image/png": "[encoded data removed]",
      "text/plain": [
       "<Figure size 432x288 with 2 Axes>"
      ]
     },
     "metadata": {
      "needs_background": "light"
     },
     "output_type": "display_data"
    }
   ],
   "source": [
    "plot_confusion_matrix(gs, X_test, y_test, display_labels=['FrontDesk', 'TechSupport'], cmap='Greens');"
   ]
  },
  {
   "cell_type": "code",
   "execution_count": 49,
   "id": "407f0bec-6a83-4331-b3bc-28bdcfba1498",
   "metadata": {},
   "outputs": [
    {
     "data": {
      "image/png": "[encoded data removed]",
      "text/plain": [
       "<Figure size 432x288 with 2 Axes>"
      ]
     },
     "metadata": {
      "needs_background": "light"
     },
     "output_type": "display_data"
    }
   ],
   "source": [
    "conf_matrix = confusion_matrix(y_test, preds_logreg)\n",
    "conf_matrix\n",
    "\n",
    "\n",
    "sns.heatmap(conf_matrix, \n",
    "            annot=True, \n",
    "            fmt='d',\n",
    "            cmap='Greens',\n",
    "            yticklabels=['FrontDesk', 'TechSupport'],\n",
    "            xticklabels=['FrontDesk', 'TechSupport'])\n",
    "plt.title('Confusion Matrix for Logistic Regression-Tfidf Vectorizer');\n",
    "plt.ylabel('True Class')\n",
    "plt.xlabel('Predicted Class')\n",
    "\n",
    "plt.savefig('../figures/logreg.png', dpi=300, bbox_inches = \"tight\")"
   ]
  },
  {
   "cell_type": "code",
   "execution_count": null,
   "id": "d51b4239-d2f0-4cdd-bfae-6f4fb7debfe4",
   "metadata": {},
   "outputs": [],
   "source": []
  },
  {
   "cell_type": "markdown",
   "id": "b4020a1a-5af0-4d47-956d-4df630da7c7e",
   "metadata": {},
   "source": [
    "### Multinomial Naive Bayes"
   ]
  },
  {
   "cell_type": "code",
   "execution_count": 37,
   "id": "4e80683f-28ae-489e-bbd1-3a037529ea10",
   "metadata": {},
   "outputs": [
    {
     "name": "stdout",
     "output_type": "stream",
     "text": [
      "0.9864146176319386\n"
     ]
    },
    {
     "data": {
      "image/png": "[encoded data removed]",
      "text/plain": [
       "<Figure size 432x288 with 2 Axes>"
      ]
     },
     "metadata": {
      "needs_background": "light"
     },
     "output_type": "display_data"
    }
   ],
   "source": [
    "pipe_mnb = Pipeline([\n",
    "    ('cvec', CountVectorizer()),\n",
    "    ('mnb', MultinomialNB())\n",
    "])\n",
    "\n",
    "params_mnb = {'cvec__max_df': [0.8],\n",
    "     'cvec__max_features': [3500],\n",
    "     'mnb__alpha': [0.001]}\n",
    "\n",
    "gs_mnb = GridSearchCV(pipe_mnb, params_mnb)\n",
    "gs_mnb.fit(X_train, y_train)\n",
    "print(gs_mnb.best_score_)\n",
    "\n",
    "\n",
    "plot_confusion_matrix(gs_mnb, X_test, y_test, display_labels=['FrontDesk', 'TechSupport'], cmap='Greens');"
   ]
  },
  {
   "cell_type": "code",
   "execution_count": 38,
   "id": "31320738-2623-4440-82b5-fa9bca1a9695",
   "metadata": {},
   "outputs": [
    {
     "data": {
      "text/plain": [
       "{'cvec__max_df': 0.8, 'cvec__max_features': 3500, 'mnb__alpha': 0.001}"
      ]
     },
     "execution_count": 38,
     "metadata": {},
     "output_type": "execute_result"
    }
   ],
   "source": [
    "gs_mnb.best_params_"
   ]
  },
  {
   "cell_type": "code",
   "execution_count": 39,
   "id": "76e3a69c-d7a6-4cfa-9a65-1fc250feb54e",
   "metadata": {},
   "outputs": [
    {
     "data": {
      "text/plain": [
       "0.9885367498314228"
      ]
     },
     "execution_count": 39,
     "metadata": {},
     "output_type": "execute_result"
    }
   ],
   "source": [
    "gs_mnb.score(X_test, y_test)"
   ]
  },
  {
   "cell_type": "code",
   "execution_count": 40,
   "id": "5998d6cb-4363-4167-8263-f171203cf173",
   "metadata": {},
   "outputs": [],
   "source": [
    "preds_mnb = gs_mnb.predict(X_test)"
   ]
  },
  {
   "cell_type": "code",
   "execution_count": 48,
   "id": "6c915ede-d177-42e7-90bc-05bbe1cb8f87",
   "metadata": {},
   "outputs": [
    {
     "data": {
      "image/png": "[encoded data removed]",
      "text/plain": [
       "<Figure size 432x288 with 2 Axes>"
      ]
     },
     "metadata": {
      "needs_background": "light"
     },
     "output_type": "display_data"
    }
   ],
   "source": [
    "conf_matrix = confusion_matrix(y_test, preds_mnb)\n",
    "conf_matrix\n",
    "\n",
    "sns.heatmap(conf_matrix, \n",
    "            annot=True, \n",
    "            fmt='d',\n",
    "            cmap='Greens',\n",
    "            yticklabels=['FrontDesk', 'TechSupport'],\n",
    "            xticklabels=['FrontDesk', 'TechSupport'])\n",
    "plt.title('Confusion Matrix for Multinomial Naive Bayes Classifier');\n",
    "plt.ylabel('True Class')\n",
    "plt.xlabel('Predicted Class')\n",
    "\n",
    "plt.savefig('../figures/mnb.png', dpi=300, bbox_inches = \"tight\")"
   ]
  },
  {
   "cell_type": "markdown",
   "id": "51f75db0-35d9-4d73-be00-cfb02b1f497c",
   "metadata": {},
   "source": [
    "## Support Vector Machine with Count Vectorizer"
   ]
  },
  {
   "cell_type": "code",
   "execution_count": 26,
   "id": "5c850dc8-3dfb-4f0f-9923-2b1badba8add",
   "metadata": {},
   "outputs": [
    {
     "name": "stdout",
     "output_type": "stream",
     "text": [
      "0.961120793784142\n"
     ]
    }
   ],
   "source": [
    "pipe_svm = Pipeline([\n",
    "    ('cvec', CountVectorizer(stop_words=stop_words)),\n",
    "    ('svm', SVC())\n",
    "])\n",
    "\n",
    "params_svm = {'cvec__max_df': [0.8],\n",
    "     'cvec__max_features': [2500],\n",
    "     'svm__kernel': ['rbf']}\n",
    "\n",
    "gs_svm = GridSearchCV(pipe_svm, params_svm)\n",
    "gs_svm.fit(X_train, y_train)\n",
    "print(gs_svm.best_score_)"
   ]
  },
  {
   "cell_type": "code",
   "execution_count": 27,
   "id": "8ba4af7b-8dce-4ade-b613-155f6d04598e",
   "metadata": {},
   "outputs": [
    {
     "data": {
      "text/plain": [
       "{'cvec__max_df': 0.8, 'cvec__max_features': 2500, 'svm__kernel': 'rbf'}"
      ]
     },
     "execution_count": 27,
     "metadata": {},
     "output_type": "execute_result"
    }
   ],
   "source": [
    "gs_svm.best_params_"
   ]
  },
  {
   "cell_type": "code",
   "execution_count": 28,
   "id": "9dcaf54f-d4fb-4247-b632-3a0fe94f2401",
   "metadata": {},
   "outputs": [
    {
     "data": {
      "text/plain": [
       "0.9720161834120027"
      ]
     },
     "execution_count": 28,
     "metadata": {},
     "output_type": "execute_result"
    }
   ],
   "source": [
    "gs_svm.score(X_test, y_test)"
   ]
  },
  {
   "cell_type": "code",
   "execution_count": 29,
   "id": "3d623fcf-5ac9-4441-bd4a-f94ace631335",
   "metadata": {},
   "outputs": [],
   "source": [
    "preds_svm = gs_svm.predict(X_test)"
   ]
  },
  {
   "cell_type": "code",
   "execution_count": 30,
   "id": "05e0af27-1497-43f4-a365-24689bbc090a",
   "metadata": {},
   "outputs": [
    {
     "data": {
      "image/png": "[encoded data removed]",
      "text/plain": [
       "<Figure size 432x288 with 2 Axes>"
      ]
     },
     "metadata": {
      "needs_background": "light"
     },
     "output_type": "display_data"
    }
   ],
   "source": [
    "plot_confusion_matrix(gs_svm, X_test, y_test, display_labels=['FrontDesk', 'TechSupport'], cmap='Greens');"
   ]
  },
  {
   "cell_type": "markdown",
   "id": "4ee10896-7b98-4cb8-aed7-3c1ac2c29d29",
   "metadata": {
    "tags": []
   },
   "source": [
    "## Support Vector Machine with TF-IDF Vectorizer"
   ]
  },
  {
   "cell_type": "code",
   "execution_count": 42,
   "id": "b4383181-85d6-4436-b43c-797e95c9daf9",
   "metadata": {},
   "outputs": [
    {
     "name": "stdout",
     "output_type": "stream",
     "text": [
      "0.9872812516979508\n"
     ]
    },
    {
     "data": {
      "image/png": "[encoded data removed]",
      "text/plain": [
       "<Figure size 432x288 with 2 Axes>"
      ]
     },
     "metadata": {
      "needs_background": "light"
     },
     "output_type": "display_data"
    }
   ],
   "source": [
    "pipe_svm = Pipeline([\n",
    "    ('tvec', TfidfVectorizer()),\n",
    "    ('svm', SVC())\n",
    "])\n",
    "\n",
    "params_svm = {\n",
    "    'svm__kernel': ['sigmoid'],\n",
    "    'tvec__max_df':[ 0.7],\n",
    "    'tvec__max_features': [None]\n",
    "}\n",
    "\n",
    "gs_svm = GridSearchCV(pipe_svm, params_svm)\n",
    "gs_svm.fit(X_train, y_train)\n",
    "print(gs_svm.best_score_)\n",
    "\n",
    "\n",
    "plot_confusion_matrix(gs_svm, X_test, y_test, display_labels=['FrontDesk', 'TechSupport'], cmap='Greens');"
   ]
  },
  {
   "cell_type": "code",
   "execution_count": 43,
   "id": "90ac37ab-378d-491e-8afa-83a85ed1f83f",
   "metadata": {},
   "outputs": [
    {
     "data": {
      "text/plain": [
       "{'svm__kernel': 'sigmoid', 'tvec__max_df': 0.7, 'tvec__max_features': None}"
      ]
     },
     "execution_count": 43,
     "metadata": {},
     "output_type": "execute_result"
    }
   ],
   "source": [
    "gs_svm.best_params_"
   ]
  },
  {
   "cell_type": "code",
   "execution_count": 44,
   "id": "5c37bac2-e4af-4877-8c2f-652a672adb0d",
   "metadata": {},
   "outputs": [
    {
     "data": {
      "text/plain": [
       "0.9892110586648685"
      ]
     },
     "execution_count": 44,
     "metadata": {},
     "output_type": "execute_result"
    }
   ],
   "source": [
    "gs_svm.score(X_test, y_test)"
   ]
  },
  {
   "cell_type": "code",
   "execution_count": 45,
   "id": "61040f22-3528-432c-981e-c844d133cd68",
   "metadata": {},
   "outputs": [],
   "source": [
    "preds_svm_tvec = gs_svm.predict(X_test)"
   ]
  },
  {
   "cell_type": "code",
   "execution_count": 47,
   "id": "b1943fe7-8b01-4d06-9ffc-eec386670b26",
   "metadata": {},
   "outputs": [
    {
     "data": {
      "image/png": "[encoded data removed]",
      "text/plain": [
       "<Figure size 432x288 with 2 Axes>"
      ]
     },
     "metadata": {
      "needs_background": "light"
     },
     "output_type": "display_data"
    }
   ],
   "source": [
    "conf_matrix = confusion_matrix(y_test, preds_svm_tvec)\n",
    "conf_matrix\n",
    "\n",
    "sns.heatmap(conf_matrix, \n",
    "            annot=True, \n",
    "            fmt='d',\n",
    "            cmap='Greens',\n",
    "            yticklabels=['FrontDesk', 'TechSupport'],\n",
    "            xticklabels=['FrontDesk', 'TechSupport'])\n",
    "plt.title('Confusion Matrix for Support Vector Machine');\n",
    "plt.ylabel('True Class')\n",
    "plt.xlabel('Predicted Class')\n",
    "\n",
    "plt.savefig('../figures/svm.png', dpi=300, bbox_inches = \"tight\")"
   ]
  },
  {
   "cell_type": "markdown",
   "id": "f6726f34-d527-4efe-a2e3-ac67bbecadc8",
   "metadata": {},
   "source": [
    "### voting classifier"
   ]
  },
  {
   "cell_type": "code",
   "execution_count": 53,
   "id": "77df79c1-aaba-454c-bcb1-fcf61b6c8ae8",
   "metadata": {},
   "outputs": [],
   "source": [
    "from sklearn.ensemble import (AdaBoostClassifier, GradientBoostingClassifier, VotingClassifier)\n",
    "from sklearn.tree import DecisionTreeClassifier"
   ]
  },
  {
   "cell_type": "code",
   "execution_count": 54,
   "id": "312fa2d1-1183-4e5b-a0df-174802abf2a6",
   "metadata": {},
   "outputs": [],
   "source": [
    "vote = VotingClassifier([\n",
    "    ('ada', AdaBoostClassifier(base_estimator=DecisionTreeClassifier())), #specify base estimator \n",
    "                                                    # if you want to tune over those parameters\n",
    "    ('gbc', GradientBoostingClassifier()),\n",
    "    ('logreg', LogisticRegression(solver='saga', max_iter=2000))\n",
    "])\n",
    "\n",
    "pipe = Pipeline([\n",
    "    ('cvec', CountVectorizer(stop_words=stop_words)),\n",
    "    ('model', vote)\n",
    "])\n",
    "\n"
   ]
  },
  {
   "cell_type": "code",
   "execution_count": 55,
   "id": "bb7d23ef-dbfe-4088-ac30-9ab679e1dfc1",
   "metadata": {},
   "outputs": [
    {
     "name": "stdout",
     "output_type": "stream",
     "text": [
      "0.9755750044930389\n"
     ]
    },
    {
     "data": {
      "text/plain": [
       "{'cvec__max_df': 1.0,\n",
       " 'cvec__max_features': None,\n",
       " 'model__ada__base_estimator__max_depth': 3,\n",
       " 'model__ada__base_estimator__min_samples_split': 5,\n",
       " 'model__gbc__n_estimators': 100}"
      ]
     },
     "execution_count": 55,
     "metadata": {},
     "output_type": "execute_result"
    }
   ],
   "source": [
    "params = {\n",
    "     'cvec__max_df': [1.0],\n",
    "     'cvec__max_features': [None],\n",
    "     'model__ada__base_estimator__max_depth': [3],\n",
    "     'model__ada__base_estimator__min_samples_split': [5],\n",
    "     'model__gbc__n_estimators': [100]\n",
    "}\n",
    "\n",
    "gs_vc = GridSearchCV(pipe, params, cv=5)\n",
    "\n",
    "gs_vc.fit(X_train, y_train)\n",
    "print(gs_vc.best_score_)\n",
    "gs_vc.best_params_"
   ]
  },
  {
   "cell_type": "code",
   "execution_count": 56,
   "id": "18677d16-9f77-423d-8ef4-a726773c1d20",
   "metadata": {},
   "outputs": [
    {
     "data": {
      "image/png": "[encoded data removed]",
      "text/plain": [
       "<Figure size 432x288 with 2 Axes>"
      ]
     },
     "metadata": {
      "needs_background": "light"
     },
     "output_type": "display_data"
    }
   ],
   "source": [
    "plot_confusion_matrix(gs_vc, X_test, y_test, display_labels=['FrontDesk', 'TechSupport'], cmap='Greens');"
   ]
  },
  {
   "cell_type": "code",
   "execution_count": 57,
   "id": "29b52f3a-b4c3-4a46-b750-1f50c3c5204e",
   "metadata": {},
   "outputs": [],
   "source": [
    "preds_vc = gs_vc.predict(X_test)"
   ]
  },
  {
   "cell_type": "markdown",
   "id": "a77613e8-0737-4d06-ac2a-c178e159a874",
   "metadata": {},
   "source": [
    "Save all predictions"
   ]
  },
  {
   "cell_type": "code",
   "execution_count": 60,
   "id": "9f6f3a9d-6624-4b4a-9659-c37be8e01f3f",
   "metadata": {},
   "outputs": [
    {
     "data": {
      "text/html": [
       "<div>\n",
       "<style scoped>\n",
       "    .dataframe tbody tr th:only-of-type {\n",
       "        vertical-align: middle;\n",
       "    }\n",
       "\n",
       "    .dataframe tbody tr th {\n",
       "        vertical-align: top;\n",
       "    }\n",
       "\n",
       "    .dataframe thead th {\n",
       "        text-align: right;\n",
       "    }\n",
       "</style>\n",
       "<table border=\"1\" class=\"dataframe\">\n",
       "  <thead>\n",
       "    <tr style=\"text-align: right;\">\n",
       "      <th></th>\n",
       "      <th>X_test</th>\n",
       "      <th>y_true</th>\n",
       "      <th>y_logreg</th>\n",
       "      <th>y_mnb</th>\n",
       "      <th>y_svm</th>\n",
       "      <th>y_vc</th>\n",
       "    </tr>\n",
       "  </thead>\n",
       "  <tbody>\n",
       "    <tr>\n",
       "      <th>0</th>\n",
       "      <td>Once upon a time it was a normal day at the ai...</td>\n",
       "      <td>0</td>\n",
       "      <td>0</td>\n",
       "      <td>0</td>\n",
       "      <td>0</td>\n",
       "      <td>0</td>\n",
       "    </tr>\n",
       "    <tr>\n",
       "      <th>1</th>\n",
       "      <td>I once worked as a programmer for a company th...</td>\n",
       "      <td>1</td>\n",
       "      <td>1</td>\n",
       "      <td>1</td>\n",
       "      <td>1</td>\n",
       "      <td>1</td>\n",
       "    </tr>\n",
       "    <tr>\n",
       "      <th>2</th>\n",
       "      <td>To set the scene: I'm genderqueer. Born with b...</td>\n",
       "      <td>0</td>\n",
       "      <td>0</td>\n",
       "      <td>0</td>\n",
       "      <td>0</td>\n",
       "      <td>0</td>\n",
       "    </tr>\n",
       "    <tr>\n",
       "      <th>3</th>\n",
       "      <td>So, it won't let me edit the previous post, so...</td>\n",
       "      <td>0</td>\n",
       "      <td>0</td>\n",
       "      <td>0</td>\n",
       "      <td>0</td>\n",
       "      <td>0</td>\n",
       "    </tr>\n",
       "    <tr>\n",
       "      <th>4</th>\n",
       "      <td>At $Hospital, we used $WellKnownBrand printers...</td>\n",
       "      <td>1</td>\n",
       "      <td>1</td>\n",
       "      <td>1</td>\n",
       "      <td>1</td>\n",
       "      <td>1</td>\n",
       "    </tr>\n",
       "  </tbody>\n",
       "</table>\n",
       "</div>"
      ],
      "text/plain": [
       "                                              X_test  y_true  y_logreg  y_mnb  \\\n",
       "0  Once upon a time it was a normal day at the ai...       0         0      0   \n",
       "1  I once worked as a programmer for a company th...       1         1      1   \n",
       "2  To set the scene: I'm genderqueer. Born with b...       0         0      0   \n",
       "3  So, it won't let me edit the previous post, so...       0         0      0   \n",
       "4  At $Hospital, we used $WellKnownBrand printers...       1         1      1   \n",
       "\n",
       "   y_svm  y_vc  \n",
       "0      0     0  \n",
       "1      1     1  \n",
       "2      0     0  \n",
       "3      0     0  \n",
       "4      1     1  "
      ]
     },
     "execution_count": 60,
     "metadata": {},
     "output_type": "execute_result"
    }
   ],
   "source": [
    "predictions = pd.DataFrame({\n",
    "    'X_test': X_test,\n",
    "    'y_true': y_test,\n",
    "    'y_logreg': preds_logreg,\n",
    "    'y_mnb' : preds_mnb,\n",
    "    'y_svm': preds_svm_tvec,\n",
    "    'y_vc' : preds_vc\n",
    "})\n",
    "\n",
    "predictions.head()"
   ]
  },
  {
   "cell_type": "code",
   "execution_count": 61,
   "id": "55942cc5-4a50-4291-9158-f6e438fe7655",
   "metadata": {},
   "outputs": [],
   "source": [
    "predictions.to_csv('../data/predictions/predictions_unique_removed.csv', index=False)"
   ]
  },
  {
   "cell_type": "code",
   "execution_count": null,
   "id": "cb5225e1-bd5e-4ca2-8708-c3a348c22c53",
   "metadata": {},
   "outputs": [],
   "source": []
  }
 ],
 "metadata": {
  "kernelspec": {
   "display_name": "Python 3 (ipykernel)",
   "language": "python",
   "name": "python3"
  },
  "language_info": {
   "codemirror_mode": {
    "name": "ipython",
    "version": 3
   },
   "file_extension": ".py",
   "mimetype": "text/x-python",
   "name": "python",
   "nbconvert_exporter": "python",
   "pygments_lexer": "ipython3",
   "version": "3.9.7"
  }
 },
 "nbformat": 4,
 "nbformat_minor": 5
}
