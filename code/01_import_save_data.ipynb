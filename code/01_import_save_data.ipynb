{
 "cells": [
  {
   "cell_type": "markdown",
   "id": "c05fb739-deae-43c0-ba0c-24bb25225c60",
   "metadata": {},
   "source": [
    "# Import, Clean and Save Data to .csv"
   ]
  },
  {
   "cell_type": "markdown",
   "id": "d5fb064d-3ecf-4cd2-802e-b2d08f01d1a2",
   "metadata": {},
   "source": [
    "In this notebook, I scrape data from two subreddits, clean them by removing any deleted or removed posts and convert them in dataframes. I save the individual dataframes as raw data. I also remove any features I'm not interested in looking at and save those dataframes, as well as a concatenated dataframe with all the data both dataframes with columns of interest. "
   ]
  },
  {
   "cell_type": "code",
   "execution_count": 1,
   "id": "0d9ed571-cc28-4873-96c1-571f413446b7",
   "metadata": {},
   "outputs": [],
   "source": [
    "import requests\n",
    "import pandas as pd\n",
    "import reddit_functions as rf\n"
   ]
  },
  {
   "cell_type": "markdown",
   "id": "7951ae4d-93dd-448d-9554-3e1a44cf615c",
   "metadata": {},
   "source": [
    "### Run cells below to import and save data"
   ]
  },
  {
   "cell_type": "code",
   "execution_count": 7,
   "id": "007c71f6-700a-4a2e-ac55-1a8a9852da81",
   "metadata": {},
   "outputs": [],
   "source": [
    "posts_front_desk = rf.get_reddit_posts('TalesFromTheFrontDesk',5000)"
   ]
  },
  {
   "cell_type": "code",
   "execution_count": 8,
   "id": "f4c520bd-bca5-4869-b6a5-0d6e00562c95",
   "metadata": {},
   "outputs": [],
   "source": [
    "posts_front_desk.to_csv('../data/front_desk_raw.csv')"
   ]
  },
  {
   "cell_type": "code",
   "execution_count": 2,
   "id": "ac6aa9a6-0e11-48c8-95c5-9485a9d29ff3",
   "metadata": {},
   "outputs": [],
   "source": [
    "posts_tech_support = rf.get_reddit_posts('talesfromtechsupport',5000)"
   ]
  },
  {
   "cell_type": "code",
   "execution_count": 6,
   "id": "dd212a36-ddd7-4724-9731-f37b63fdfa8b",
   "metadata": {},
   "outputs": [],
   "source": [
    "posts_tech_support.to_csv('../data/tech_support_raw.csv')"
   ]
  },
  {
   "cell_type": "code",
   "execution_count": 9,
   "id": "c4147f6e-c335-4757-beb3-4ecc1851d3fc",
   "metadata": {},
   "outputs": [
    {
     "data": {
      "text/plain": [
       "{'all_awardings',\n",
       " 'allow_live_comments',\n",
       " 'author',\n",
       " 'author_cakeday',\n",
       " 'author_flair_background_color',\n",
       " 'author_flair_css_class',\n",
       " 'author_flair_richtext',\n",
       " 'author_flair_template_id',\n",
       " 'author_flair_text',\n",
       " 'author_flair_text_color',\n",
       " 'author_flair_type',\n",
       " 'author_fullname',\n",
       " 'author_is_blocked',\n",
       " 'author_patreon_flair',\n",
       " 'author_premium',\n",
       " 'awarders',\n",
       " 'banned_by',\n",
       " 'can_mod_post',\n",
       " 'contest_mode',\n",
       " 'created_utc',\n",
       " 'distinguished',\n",
       " 'domain',\n",
       " 'edited',\n",
       " 'full_link',\n",
       " 'gilded',\n",
       " 'gildings',\n",
       " 'id',\n",
       " 'is_created_from_ads_ui',\n",
       " 'is_crosspostable',\n",
       " 'is_meta',\n",
       " 'is_original_content',\n",
       " 'is_reddit_media_domain',\n",
       " 'is_robot_indexable',\n",
       " 'is_self',\n",
       " 'is_video',\n",
       " 'link_flair_background_color',\n",
       " 'link_flair_css_class',\n",
       " 'link_flair_richtext',\n",
       " 'link_flair_text',\n",
       " 'link_flair_text_color',\n",
       " 'link_flair_type',\n",
       " 'locked',\n",
       " 'media_only',\n",
       " 'no_follow',\n",
       " 'num_comments',\n",
       " 'num_crossposts',\n",
       " 'over_18',\n",
       " 'parent_whitelist_status',\n",
       " 'permalink',\n",
       " 'pinned',\n",
       " 'post_hint',\n",
       " 'preview',\n",
       " 'pwls',\n",
       " 'removed_by_category',\n",
       " 'retrieved_on',\n",
       " 'score',\n",
       " 'selftext',\n",
       " 'send_replies',\n",
       " 'spoiler',\n",
       " 'stickied',\n",
       " 'subreddit',\n",
       " 'subreddit_id',\n",
       " 'subreddit_subscribers',\n",
       " 'subreddit_type',\n",
       " 'thumbnail',\n",
       " 'title',\n",
       " 'total_awards_received',\n",
       " 'treatment_tags',\n",
       " 'upvote_ratio',\n",
       " 'url',\n",
       " 'whitelist_status',\n",
       " 'wls'}"
      ]
     },
     "execution_count": 9,
     "metadata": {},
     "output_type": "execute_result"
    }
   ],
   "source": [
    "set(posts_front_desk.columns).intersection(set(posts_tech_support.columns))"
   ]
  },
  {
   "cell_type": "code",
   "execution_count": 10,
   "id": "9d21c072-12cf-4537-be39-b62d2b44f9ea",
   "metadata": {},
   "outputs": [],
   "source": [
    "columns_to_save = ['subreddit', 'title', 'selftext', 'created_utc', 'num_comments']"
   ]
  },
  {
   "cell_type": "code",
   "execution_count": 11,
   "id": "58b73dd1-8705-4212-8421-deed931ad49e",
   "metadata": {},
   "outputs": [],
   "source": [
    "red_df = pd.concat([posts_front_desk[columns_to_save],\n",
    "                    posts_tech_support[columns_to_save]])\n"
   ]
  },
  {
   "cell_type": "markdown",
   "id": "3d19720c-fdba-4ce5-9e7a-babd4ba6283a",
   "metadata": {},
   "source": [
    "### Run cells below to check for missing data and pull additional data if necessary"
   ]
  },
  {
   "cell_type": "code",
   "execution_count": null,
   "id": "58d5cf79-21d9-439d-a68f-05f49a0392b2",
   "metadata": {},
   "outputs": [],
   "source": [
    "red_df = pd.read_csv('../data/all_posts_text_title.csv')"
   ]
  },
  {
   "cell_type": "code",
   "execution_count": 13,
   "id": "044f9508-9d60-4db1-9ce1-0a3bf29add6b",
   "metadata": {},
   "outputs": [
    {
     "data": {
      "text/plain": [
       "subreddit        0\n",
       "title            0\n",
       "selftext        70\n",
       "created_utc      0\n",
       "num_comments     0\n",
       "dtype: int64"
      ]
     },
     "execution_count": 13,
     "metadata": {},
     "output_type": "execute_result"
    }
   ],
   "source": [
    "red_df.isna().sum()"
   ]
  },
  {
   "cell_type": "code",
   "execution_count": 14,
   "id": "92e6eb76-10d1-4605-b956-8138ab836289",
   "metadata": {},
   "outputs": [
    {
     "data": {
      "text/plain": [
       "talesfromtechsupport     49\n",
       "TalesFromTheFrontDesk    21\n",
       "Name: subreddit, dtype: int64"
      ]
     },
     "execution_count": 14,
     "metadata": {},
     "output_type": "execute_result"
    }
   ],
   "source": [
    "# check which subreddit the missing data is from\n",
    "\n",
    "red_df[red_df['selftext'].isna()]['subreddit'].value_counts()"
   ]
  },
  {
   "cell_type": "code",
   "execution_count": 15,
   "id": "f83af11b-21fa-41c6-a20a-27f21134870a",
   "metadata": {},
   "outputs": [],
   "source": [
    "# it's not a lot of data so I will drop the rows with missing post text\n",
    "red_df.dropna(inplace=True)"
   ]
  },
  {
   "cell_type": "code",
   "execution_count": 16,
   "id": "6f671e2e-b77a-4cb6-b925-4f130bf8a7c2",
   "metadata": {},
   "outputs": [
    {
     "data": {
      "text/plain": [
       "subreddit       object\n",
       "title           object\n",
       "selftext        object\n",
       "created_utc      int64\n",
       "num_comments     int64\n",
       "dtype: object"
      ]
     },
     "execution_count": 16,
     "metadata": {},
     "output_type": "execute_result"
    }
   ],
   "source": [
    "red_df.dtypes"
   ]
  },
  {
   "cell_type": "code",
   "execution_count": null,
   "id": "0a31ebd1-f136-49f4-a79c-68aa5fdf843e",
   "metadata": {},
   "outputs": [],
   "source": [
    "# drop unnamed column\n",
    "red_df.drop(columns=['Unnamed: 0'], inplace=True)"
   ]
  },
  {
   "cell_type": "code",
   "execution_count": 17,
   "id": "f16d1890-1e7b-4ee2-be18-31367ee6a467",
   "metadata": {},
   "outputs": [
    {
     "data": {
      "text/html": [
       "<div>\n",
       "<style scoped>\n",
       "    .dataframe tbody tr th:only-of-type {\n",
       "        vertical-align: middle;\n",
       "    }\n",
       "\n",
       "    .dataframe tbody tr th {\n",
       "        vertical-align: top;\n",
       "    }\n",
       "\n",
       "    .dataframe thead th {\n",
       "        text-align: right;\n",
       "    }\n",
       "</style>\n",
       "<table border=\"1\" class=\"dataframe\">\n",
       "  <thead>\n",
       "    <tr style=\"text-align: right;\">\n",
       "      <th></th>\n",
       "      <th>subreddit</th>\n",
       "      <th>title</th>\n",
       "      <th>selftext</th>\n",
       "      <th>created_utc</th>\n",
       "      <th>num_comments</th>\n",
       "      <th>post_length</th>\n",
       "    </tr>\n",
       "  </thead>\n",
       "  <tbody>\n",
       "    <tr>\n",
       "      <th>0</th>\n",
       "      <td>TalesFromTheFrontDesk</td>\n",
       "      <td>Update from my post about my coworker</td>\n",
       "      <td>Here is the original [post](https://www.reddit...</td>\n",
       "      <td>1648499626</td>\n",
       "      <td>0</td>\n",
       "      <td>189</td>\n",
       "    </tr>\n",
       "    <tr>\n",
       "      <th>1</th>\n",
       "      <td>TalesFromTheFrontDesk</td>\n",
       "      <td>You’re forcing me!</td>\n",
       "      <td>So, for context, I work at a 3-star-ish busine...</td>\n",
       "      <td>1648471124</td>\n",
       "      <td>0</td>\n",
       "      <td>501</td>\n",
       "    </tr>\n",
       "    <tr>\n",
       "      <th>3</th>\n",
       "      <td>TalesFromTheFrontDesk</td>\n",
       "      <td>“I actually have to read what I’m signing for?”</td>\n",
       "      <td>So this literally happened as I’m walking in a...</td>\n",
       "      <td>1648445630</td>\n",
       "      <td>0</td>\n",
       "      <td>305</td>\n",
       "    </tr>\n",
       "    <tr>\n",
       "      <th>5</th>\n",
       "      <td>TalesFromTheFrontDesk</td>\n",
       "      <td>The Straw(s) That Broke the Camel's Back</td>\n",
       "      <td>Hey guys, it's been a while since I've posted....</td>\n",
       "      <td>1648441064</td>\n",
       "      <td>0</td>\n",
       "      <td>1185</td>\n",
       "    </tr>\n",
       "    <tr>\n",
       "      <th>6</th>\n",
       "      <td>TalesFromTheFrontDesk</td>\n",
       "      <td>DM Report Ideas?</td>\n",
       "      <td>Hello Front Desk,\\n\\nApologies if this is agai...</td>\n",
       "      <td>1648435782</td>\n",
       "      <td>0</td>\n",
       "      <td>179</td>\n",
       "    </tr>\n",
       "  </tbody>\n",
       "</table>\n",
       "</div>"
      ],
      "text/plain": [
       "               subreddit                                            title  \\\n",
       "0  TalesFromTheFrontDesk            Update from my post about my coworker   \n",
       "1  TalesFromTheFrontDesk                               You’re forcing me!   \n",
       "3  TalesFromTheFrontDesk  “I actually have to read what I’m signing for?”   \n",
       "5  TalesFromTheFrontDesk         The Straw(s) That Broke the Camel's Back   \n",
       "6  TalesFromTheFrontDesk                                 DM Report Ideas?   \n",
       "\n",
       "                                            selftext  created_utc  \\\n",
       "0  Here is the original [post](https://www.reddit...   1648499626   \n",
       "1  So, for context, I work at a 3-star-ish busine...   1648471124   \n",
       "3  So this literally happened as I’m walking in a...   1648445630   \n",
       "5  Hey guys, it's been a while since I've posted....   1648441064   \n",
       "6  Hello Front Desk,\\n\\nApologies if this is agai...   1648435782   \n",
       "\n",
       "   num_comments  post_length  \n",
       "0             0          189  \n",
       "1             0          501  \n",
       "3             0          305  \n",
       "5             0         1185  \n",
       "6             0          179  "
      ]
     },
     "execution_count": 17,
     "metadata": {},
     "output_type": "execute_result"
    }
   ],
   "source": [
    "# create a word count column to look for any deleted posts\n",
    "red_df['post_length'] = [len(post.strip().split(' ')) for post in red_df['selftext']]\n",
    "red_df.head()"
   ]
  },
  {
   "cell_type": "code",
   "execution_count": 26,
   "id": "609d8ba9-087b-4667-aa89-f357eb91ea93",
   "metadata": {},
   "outputs": [
    {
     "data": {
      "text/plain": [
       "                                                                75\n",
       "[deleted]                                                       31\n",
       "[https://youtu.be/mWINe-m0hsk](https://youtu.be/mWINe-m0hsk)     1\n",
       "[https://imgur.com/RfPFAcB](https://imgur.com/RfPFAcB)           1\n",
       "Name: selftext, dtype: int64"
      ]
     },
     "execution_count": 26,
     "metadata": {},
     "output_type": "execute_result"
    }
   ],
   "source": [
    "# check any posts that just have a single word\n",
    "red_df[red_df['post_length']==1]['selftext'].value_counts()"
   ]
  },
  {
   "cell_type": "code",
   "execution_count": 32,
   "id": "766b4cba-a668-4853-943a-d5bddf4374ba",
   "metadata": {},
   "outputs": [
    {
     "data": {
      "text/plain": [
       "Series([], Name: subreddit, dtype: int64)"
      ]
     },
     "execution_count": 32,
     "metadata": {},
     "output_type": "execute_result"
    }
   ],
   "source": [
    "# which subredit do they primarily come from\n",
    "red_df[red_df['post_length']==1]['subreddit'].value_counts()"
   ]
  },
  {
   "cell_type": "code",
   "execution_count": 33,
   "id": "2483d1f9-e8ff-452e-abc7-d4ebcced761a",
   "metadata": {},
   "outputs": [],
   "source": [
    "# remove any posts that have just one word\n",
    "red_df = red_df[red_df['post_length']>1]"
   ]
  },
  {
   "cell_type": "code",
   "execution_count": 34,
   "id": "53d41c30-ce5f-4e06-a52f-0d50fa044d86",
   "metadata": {},
   "outputs": [
    {
     "data": {
      "text/plain": [
       "TalesFromTheFrontDesk    4999\n",
       "talesfromtechsupport     4886\n",
       "Name: subreddit, dtype: int64"
      ]
     },
     "execution_count": 34,
     "metadata": {},
     "output_type": "execute_result"
    }
   ],
   "source": [
    "# double check counts of posts from the two subreddits to make sure they're similar\n",
    "red_df['subreddit'].value_counts()"
   ]
  },
  {
   "cell_type": "code",
   "execution_count": 36,
   "id": "b839d608-531d-4eb7-adf1-1997c1f178ff",
   "metadata": {},
   "outputs": [],
   "source": [
    "red_df.to_csv('../data/all_posts_cleaned.csv', index=False)"
   ]
  },
  {
   "cell_type": "code",
   "execution_count": null,
   "id": "b110f629-146d-4c94-9f24-e1762ce9401e",
   "metadata": {},
   "outputs": [],
   "source": []
  }
 ],
 "metadata": {
  "kernelspec": {
   "display_name": "Python 3 (ipykernel)",
   "language": "python",
   "name": "python3"
  },
  "language_info": {
   "codemirror_mode": {
    "name": "ipython",
    "version": 3
   },
   "file_extension": ".py",
   "mimetype": "text/x-python",
   "name": "python",
   "nbconvert_exporter": "python",
   "pygments_lexer": "ipython3",
   "version": "3.9.7"
  }
 },
 "nbformat": 4,
 "nbformat_minor": 5
}
