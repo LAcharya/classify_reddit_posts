{
 "cells": [
  {
   "cell_type": "markdown",
   "id": "2c9ed834-3009-4b79-89cb-7b5988d596ff",
   "metadata": {},
   "source": [
    "# Gridsearch to Optimize Model Hyperparameters"
   ]
  },
  {
   "cell_type": "markdown",
   "id": "93f52a3d-914a-4744-b1b6-713ed8d0d911",
   "metadata": {},
   "source": [
    "This is one of two notebooks in which I run different models through a gridsearch to optimize hyperparameters for recall score. "
   ]
  },
  {
   "cell_type": "code",
   "execution_count": 12,
   "id": "2e7c67b9-f7b3-42b0-9c34-336553423e00",
   "metadata": {},
   "outputs": [],
   "source": [
    "import pandas as pd\n",
    "import reddit_functions as rf\n",
    "from sklearn.feature_extraction.text import CountVectorizer, TfidfVectorizer\n",
    "from sklearn.model_selection import train_test_split, GridSearchCV\n",
    "from sklearn.pipeline import Pipeline\n",
    "from sklearn.linear_model import LogisticRegression\n",
    "from sklearn.metrics import plot_confusion_matrix\n",
    "from sklearn.preprocessing import StandardScaler\n",
    "from sklearn.svm import SVC\n",
    "from sklearn.ensemble import RandomForestClassifier, AdaBoostClassifier, GradientBoostingClassifier, VotingClassifier\n",
    "from sklearn.tree import DecisionTreeClassifier\n",
    "from sklearn.naive_bayes import MultinomialNB"
   ]
  },
  {
   "cell_type": "markdown",
   "id": "c207e64d-f94c-42ad-a331-70204be32338",
   "metadata": {
    "tags": []
   },
   "source": [
    "### Import train and test sets"
   ]
  },
  {
   "cell_type": "code",
   "execution_count": 13,
   "id": "831f0596-6165-42b4-b8c2-996941b4361a",
   "metadata": {},
   "outputs": [],
   "source": [
    "# import data\n",
    "X_train = pd.read_csv('../data/train_test_sets/X_train.csv')\n",
    "X_train = X_train['selftext'] # convert from dataframe to series\n",
    "\n",
    "X_test = pd.read_csv('../data/train_test_sets/X_test.csv')\n",
    "X_test = X_test['selftext'] # convert from dataframe to series\n",
    "\n",
    "y_train = pd.read_csv('../data/train_test_sets/y_train.csv')\n",
    "y_train = y_train['subreddit'] # convert from dataframe to series\n",
    "\n",
    "y_test = pd.read_csv('../data/train_test_sets/y_test.csv')\n",
    "y_test = y_test['subreddit'] # convert from dataframe to series "
   ]
  },
  {
   "cell_type": "markdown",
   "id": "f3d7d6c1-36da-4765-94ae-65fd501fd48d",
   "metadata": {},
   "source": [
    "### Logistic Regression with CountVectorizer"
   ]
  },
  {
   "cell_type": "code",
   "execution_count": 18,
   "id": "42feb43f-3384-4ba5-bae3-83f29157121a",
   "metadata": {},
   "outputs": [
    {
     "data": {
      "text/plain": [
       "0       Decades ago, I was the IT purchasing person fo...\n",
       "1       I PUT MY TWO WEEKS IN!!!\\n\\nI AM FINALLY LEAVI...\n",
       "2       Big Dummy KNEW she stole. Logic just hit his s...\n",
       "3       I'll start this ventfest by stating the obviou...\n",
       "4       So, for context, I work at a 3-star-ish busine...\n",
       "                              ...                        \n",
       "6914    A long time ago in a land far, far away, your ...\n",
       "6915    So [this post](https://www.reddit.com/r/talesf...\n",
       "6916    Happen couple months ago, I went to a client s...\n",
       "6917    I'm a NA of Florida Hotel in a very touristy l...\n",
       "6918    Hello again! At the request of others in my la...\n",
       "Name: selftext, Length: 6919, dtype: object"
      ]
     },
     "execution_count": 18,
     "metadata": {},
     "output_type": "execute_result"
    }
   ],
   "source": [
    "X_train"
   ]
  },
  {
   "cell_type": "code",
   "execution_count": 24,
   "id": "4664447c-1f26-4e8e-8fd1-f5b7983aa57f",
   "metadata": {},
   "outputs": [
    {
     "name": "stdout",
     "output_type": "stream",
     "text": [
      "Best Score: 0.9859649122807017\n",
      "Best Parameters:\n"
     ]
    },
    {
     "data": {
      "text/plain": [
       "{'cvec__max_df': 0.7,\n",
       " 'cvec__max_features': None,\n",
       " 'cvec__stop_words': None,\n",
       " 'model__C': 0.1,\n",
       " 'model__penalty': 'l2',\n",
       " 'model__solver': 'liblinear'}"
      ]
     },
     "execution_count": 24,
     "metadata": {},
     "output_type": "execute_result"
    }
   ],
   "source": [
    "pipe = Pipeline([\n",
    "    ('cvec', CountVectorizer()),\n",
    "    ('model', LogisticRegression())\n",
    "])\n",
    "\n",
    "params = {\n",
    "    'cvec__max_features': [None, 2500, 3000],\n",
    "    'cvec__max_df': [.8, .7, 1.0],\n",
    "    'cvec__stop_words':['english', None],\n",
    "    'model__C' : [1, 0.1, 0.01],\n",
    "    'model__solver': ['liblinear'],\n",
    "    'model__penalty': ['l1', 'l2']\n",
    "}\n",
    "\n",
    "gs = GridSearchCV(pipe, params, cv=3, scoring='recall')\n",
    "gs.fit(X_train, y_train)\n",
    "\n",
    "print(f'Best Score: {gs.best_score_}')\n",
    "print(f'Best Parameters:')\n",
    "gs.best_params_"
   ]
  },
  {
   "cell_type": "code",
   "execution_count": 25,
   "id": "dfc949ef-4ca4-447f-b365-da5d70a71eb2",
   "metadata": {},
   "outputs": [
    {
     "data": {
      "text/plain": [
       "0.9863574351978172"
      ]
     },
     "execution_count": 25,
     "metadata": {},
     "output_type": "execute_result"
    }
   ],
   "source": [
    "gs.score(X_test, y_test)"
   ]
  },
  {
   "cell_type": "code",
   "execution_count": 26,
   "id": "f7d4472d-f613-494f-a876-0331534f38c1",
   "metadata": {},
   "outputs": [
    {
     "data": {
      "text/plain": [
       "0.9994152046783625"
      ]
     },
     "execution_count": 26,
     "metadata": {},
     "output_type": "execute_result"
    }
   ],
   "source": [
    "gs.score(X_train, y_train)"
   ]
  },
  {
   "cell_type": "code",
   "execution_count": 27,
   "id": "e02c94b2-e21d-4025-bf4e-6f8a31bcc0eb",
   "metadata": {},
   "outputs": [],
   "source": [
    "preds_logreg = gs.predict(X_test)"
   ]
  },
  {
   "cell_type": "code",
   "execution_count": 28,
   "id": "fc074482-9f5d-424f-9c37-f052701ab6e0",
   "metadata": {},
   "outputs": [
    {
     "data": {
      "image/png": "[encoded data removed]",
      "text/plain": [
       "<Figure size 432x288 with 2 Axes>"
      ]
     },
     "metadata": {
      "needs_background": "light"
     },
     "output_type": "display_data"
    }
   ],
   "source": [
    "plot_confusion_matrix(gs, X_test, y_test, display_labels=['FrontDesk', 'TechSupport'], cmap='Greens');"
   ]
  },
  {
   "cell_type": "markdown",
   "id": "41e79775-561e-414d-adeb-8850ed6a542e",
   "metadata": {},
   "source": [
    "### Logistic Regression with TF-IDF Vectorizer"
   ]
  },
  {
   "cell_type": "code",
   "execution_count": 29,
   "id": "202dd5c7-ea29-4c77-974e-20408f58e35f",
   "metadata": {},
   "outputs": [
    {
     "name": "stdout",
     "output_type": "stream",
     "text": [
      "Best Score: 0.9900584795321637\n",
      "Best Parameters:\n"
     ]
    },
    {
     "data": {
      "text/plain": [
       "{'model__C': 1,\n",
       " 'model__penalty': 'l2',\n",
       " 'model__solver': 'liblinear',\n",
       " 'tvec__max_df': 0.8,\n",
       " 'tvec__max_features': None,\n",
       " 'tvec__stop_words': 'english'}"
      ]
     },
     "execution_count": 29,
     "metadata": {},
     "output_type": "execute_result"
    }
   ],
   "source": [
    "pipe = Pipeline([\n",
    "    ('tvec', TfidfVectorizer()),\n",
    "    ('model', LogisticRegression())\n",
    "])\n",
    "\n",
    "params = {\n",
    "    'tvec__max_features': [None, 2500, 3000],\n",
    "    'tvec__max_df': [.8, .7, 1.0],\n",
    "    'tvec__stop_words':['english', None],\n",
    "    'model__C' : [1, 0.1, 0.01],\n",
    "    'model__solver': ['liblinear'],\n",
    "    'model__penalty': ['l1', 'l2']\n",
    "}\n",
    "\n",
    "gs = GridSearchCV(pipe, params, cv=3, scoring='recall')\n",
    "gs.fit(X_train, y_train)\n",
    "\n",
    "print(f'Best Score: {gs.best_score_}')\n",
    "print(f'Best Parameters:')\n",
    "gs.best_params_"
   ]
  },
  {
   "cell_type": "code",
   "execution_count": 30,
   "id": "ffabb062-acda-469e-9230-ab5b1588b7d2",
   "metadata": {},
   "outputs": [
    {
     "data": {
      "text/plain": [
       "0.9911323328785812"
      ]
     },
     "execution_count": 30,
     "metadata": {},
     "output_type": "execute_result"
    }
   ],
   "source": [
    "gs.score(X_test, y_test)"
   ]
  },
  {
   "cell_type": "code",
   "execution_count": 31,
   "id": "892a0817-822a-4602-8fe6-16177e8b906e",
   "metadata": {},
   "outputs": [],
   "source": [
    "preds_logreg_tvec = gs.predict(X_test)"
   ]
  },
  {
   "cell_type": "code",
   "execution_count": 32,
   "id": "dad0d852-9be9-4606-a697-0379ec3a011f",
   "metadata": {},
   "outputs": [
    {
     "data": {
      "image/png": "[encoded data removed]",
      "text/plain": [
       "<Figure size 432x288 with 2 Axes>"
      ]
     },
     "metadata": {
      "needs_background": "light"
     },
     "output_type": "display_data"
    }
   ],
   "source": [
    "plot_confusion_matrix(gs, X_test, y_test, display_labels=['FrontDesk', 'TechSupport'], cmap='Greens');"
   ]
  },
  {
   "cell_type": "markdown",
   "id": "a6f726cb-b7ec-449f-a28c-35ad7200e2b4",
   "metadata": {
    "tags": []
   },
   "source": [
    "## Support Vector Machine with CountVectorizer"
   ]
  },
  {
   "cell_type": "code",
   "execution_count": 18,
   "id": "074b9c3b-2cc0-4d09-ae51-b3aefa528b84",
   "metadata": {},
   "outputs": [
    {
     "name": "stdout",
     "output_type": "stream",
     "text": [
      "0.9760083215260449\n"
     ]
    },
    {
     "data": {
      "image/png": "[encoded data removed]",
      "text/plain": [
       "<Figure size 432x288 with 2 Axes>"
      ]
     },
     "metadata": {
      "needs_background": "light"
     },
     "output_type": "display_data"
    }
   ],
   "source": [
    "pipe_svm = Pipeline([\n",
    "    ('cvec', CountVectorizer()),\n",
    "    ('svm', SVC())\n",
    "])\n",
    "\n",
    "params_svm = {\n",
    "    'cvec__max_features': [None, 2500, 3000, 3500],\n",
    "    'cvec__max_df': [.8, .7, 1.0],\n",
    "    'cvec__stop_words':['english', None],\n",
    "    'svm__kernel': ['poly', 'rbf', 'sigmoid']\n",
    "}\n",
    "\n",
    "gs_svm = GridSearchCV(pipe_svm, params_svm)\n",
    "gs_svm.fit(X_train, y_train)\n",
    "print(gs_svm.best_score_)\n",
    "\n",
    "\n",
    "plot_confusion_matrix(gs_svm, X_test, y_test, display_labels=['FrontDesk', 'TechSupport'], cmap='Greens');"
   ]
  },
  {
   "cell_type": "code",
   "execution_count": 19,
   "id": "3af36ab2-7e77-41aa-b680-5216b0ede53c",
   "metadata": {},
   "outputs": [
    {
     "data": {
      "text/plain": [
       "{'cvec__max_df': 0.8,\n",
       " 'cvec__max_features': 2500,\n",
       " 'cvec__stop_words': None,\n",
       " 'svm__kernel': 'rbf'}"
      ]
     },
     "execution_count": 19,
     "metadata": {},
     "output_type": "execute_result"
    }
   ],
   "source": [
    "gs_svm.best_params_"
   ]
  },
  {
   "cell_type": "code",
   "execution_count": 20,
   "id": "c8602f15-6f77-4ddb-8bf4-f93481e4ddad",
   "metadata": {},
   "outputs": [
    {
     "data": {
      "text/plain": [
       "0.9821308159136884"
      ]
     },
     "execution_count": 20,
     "metadata": {},
     "output_type": "execute_result"
    }
   ],
   "source": [
    "gs_svm.score(X_test, y_test)"
   ]
  },
  {
   "cell_type": "code",
   "execution_count": 21,
   "id": "4c793e2c-03cd-439d-b409-66acf6b7da03",
   "metadata": {},
   "outputs": [],
   "source": [
    "preds_svm_cvec = gs_svm.predict(X_test)"
   ]
  },
  {
   "cell_type": "markdown",
   "id": "d33ec326-1f71-4396-b56e-93afb370700e",
   "metadata": {
    "tags": []
   },
   "source": [
    "## Support Vector Machine with TF-IDF Vectorizer"
   ]
  },
  {
   "cell_type": "code",
   "execution_count": 22,
   "id": "b18aeee2-b403-4bae-99ff-4e9c39a95dc4",
   "metadata": {},
   "outputs": [
    {
     "name": "stdout",
     "output_type": "stream",
     "text": [
      "0.988582247689742\n"
     ]
    },
    {
     "data": {
      "image/png": "[encoded data removed]",
      "text/plain": [
       "<Figure size 432x288 with 2 Axes>"
      ]
     },
     "metadata": {
      "needs_background": "light"
     },
     "output_type": "display_data"
    }
   ],
   "source": [
    "pipe_svm = Pipeline([\n",
    "    ('tvec', TfidfVectorizer()),\n",
    "    ('svm', SVC())\n",
    "])\n",
    "\n",
    "params_svm = {\n",
    "    'tvec__max_features': [None, 2500, 3000, 3500],\n",
    "    'tvec__max_df': [.8, .7, 1.0],\n",
    "    'tvec__stop_words':['english', None],\n",
    "    'svm__kernel': ['poly', 'rbf', 'sigmoid']\n",
    "}\n",
    "\n",
    "gs_svm = GridSearchCV(pipe_svm, params_svm)\n",
    "gs_svm.fit(X_train, y_train)\n",
    "print(gs_svm.best_score_)\n",
    "\n",
    "\n",
    "plot_confusion_matrix(gs_svm, X_test, y_test, display_labels=['FrontDesk', 'TechSupport'], cmap='Greens');"
   ]
  },
  {
   "cell_type": "code",
   "execution_count": 23,
   "id": "6ef93f23-a62a-40c0-bb29-0418a2d4613f",
   "metadata": {},
   "outputs": [
    {
     "data": {
      "text/plain": [
       "{'svm__kernel': 'sigmoid',\n",
       " 'tvec__max_df': 0.7,\n",
       " 'tvec__max_features': None,\n",
       " 'tvec__stop_words': 'english'}"
      ]
     },
     "execution_count": 23,
     "metadata": {},
     "output_type": "execute_result"
    }
   ],
   "source": [
    "gs_svm.best_params_"
   ]
  },
  {
   "cell_type": "code",
   "execution_count": 24,
   "id": "e364e2af-75a4-44da-ac28-22fb0ea5df5d",
   "metadata": {},
   "outputs": [
    {
     "data": {
      "text/plain": [
       "0.9888739042481457"
      ]
     },
     "execution_count": 24,
     "metadata": {},
     "output_type": "execute_result"
    }
   ],
   "source": [
    "gs_svm.score(X_test, y_test)"
   ]
  },
  {
   "cell_type": "code",
   "execution_count": 25,
   "id": "a41965ac-bb62-41ea-8ec2-d1082d805619",
   "metadata": {},
   "outputs": [],
   "source": [
    "preds_svm_tvec = gs_svm.predict(X_test)"
   ]
  },
  {
   "cell_type": "markdown",
   "id": "fe4c904c-a917-48ea-8fe2-11ebbf2b03cd",
   "metadata": {},
   "source": [
    "### Put all predictions into a dataframe and save to csv"
   ]
  },
  {
   "cell_type": "code",
   "execution_count": 27,
   "id": "2b9b414b-0cc6-4a1c-9720-d60d1c65ddb0",
   "metadata": {},
   "outputs": [
    {
     "data": {
      "text/html": [
       "<div>\n",
       "<style scoped>\n",
       "    .dataframe tbody tr th:only-of-type {\n",
       "        vertical-align: middle;\n",
       "    }\n",
       "\n",
       "    .dataframe tbody tr th {\n",
       "        vertical-align: top;\n",
       "    }\n",
       "\n",
       "    .dataframe thead th {\n",
       "        text-align: right;\n",
       "    }\n",
       "</style>\n",
       "<table border=\"1\" class=\"dataframe\">\n",
       "  <thead>\n",
       "    <tr style=\"text-align: right;\">\n",
       "      <th></th>\n",
       "      <th>X_test</th>\n",
       "      <th>y_true</th>\n",
       "      <th>y_logreg_cvec</th>\n",
       "      <th>y_logreg_tvec</th>\n",
       "      <th>y_svm_cvec</th>\n",
       "      <th>y_svm_tvec</th>\n",
       "    </tr>\n",
       "  </thead>\n",
       "  <tbody>\n",
       "    <tr>\n",
       "      <th>0</th>\n",
       "      <td>Once upon a time it was a normal day at the ai...</td>\n",
       "      <td>0</td>\n",
       "      <td>0</td>\n",
       "      <td>0</td>\n",
       "      <td>0</td>\n",
       "      <td>0</td>\n",
       "    </tr>\n",
       "    <tr>\n",
       "      <th>1</th>\n",
       "      <td>I once worked as a programmer for a company th...</td>\n",
       "      <td>1</td>\n",
       "      <td>1</td>\n",
       "      <td>1</td>\n",
       "      <td>1</td>\n",
       "      <td>1</td>\n",
       "    </tr>\n",
       "    <tr>\n",
       "      <th>2</th>\n",
       "      <td>To set the scene: I'm genderqueer. Born with b...</td>\n",
       "      <td>0</td>\n",
       "      <td>0</td>\n",
       "      <td>0</td>\n",
       "      <td>0</td>\n",
       "      <td>0</td>\n",
       "    </tr>\n",
       "    <tr>\n",
       "      <th>3</th>\n",
       "      <td>So, it won't let me edit the previous post, so...</td>\n",
       "      <td>0</td>\n",
       "      <td>0</td>\n",
       "      <td>0</td>\n",
       "      <td>0</td>\n",
       "      <td>0</td>\n",
       "    </tr>\n",
       "    <tr>\n",
       "      <th>4</th>\n",
       "      <td>At $Hospital, we used $WellKnownBrand printers...</td>\n",
       "      <td>1</td>\n",
       "      <td>1</td>\n",
       "      <td>1</td>\n",
       "      <td>1</td>\n",
       "      <td>1</td>\n",
       "    </tr>\n",
       "  </tbody>\n",
       "</table>\n",
       "</div>"
      ],
      "text/plain": [
       "                                              X_test  y_true  y_logreg_cvec  \\\n",
       "0  Once upon a time it was a normal day at the ai...       0              0   \n",
       "1  I once worked as a programmer for a company th...       1              1   \n",
       "2  To set the scene: I'm genderqueer. Born with b...       0              0   \n",
       "3  So, it won't let me edit the previous post, so...       0              0   \n",
       "4  At $Hospital, we used $WellKnownBrand printers...       1              1   \n",
       "\n",
       "   y_logreg_tvec  y_svm_cvec  y_svm_tvec  \n",
       "0              0           0           0  \n",
       "1              1           1           1  \n",
       "2              0           0           0  \n",
       "3              0           0           0  \n",
       "4              1           1           1  "
      ]
     },
     "execution_count": 27,
     "metadata": {},
     "output_type": "execute_result"
    }
   ],
   "source": [
    "predictions = pd.DataFrame({\n",
    "    'X_test': X_test,\n",
    "    'y_true': y_test,\n",
    "    'y_logreg_cvec': preds_logreg,\n",
    "    'y_logreg_tvec': preds_logreg_tvec,\n",
    "    'y_svm_cvec' : preds_svm_cvec,\n",
    "    'y_svm_tvec': preds_svm_tvec\n",
    "})\n",
    "\n",
    "predictions.head()"
   ]
  },
  {
   "cell_type": "code",
   "execution_count": 3,
   "id": "9ec55b44-a365-4df4-83a3-1ba69603baae",
   "metadata": {},
   "outputs": [
    {
     "ename": "NameError",
     "evalue": "name 'predictions' is not defined",
     "output_type": "error",
     "traceback": [
      "\u001b[1;31m---------------------------------------------------------------------------\u001b[0m",
      "\u001b[1;31mNameError\u001b[0m                                 Traceback (most recent call last)",
      "\u001b[1;32mC:\\Users\\LAVANY~1\\AppData\\Local\\Temp/ipykernel_39944/3107355177.py\u001b[0m in \u001b[0;36m<module>\u001b[1;34m\u001b[0m\n\u001b[1;32m----> 1\u001b[1;33m \u001b[0mpredictions\u001b[0m\u001b[1;33m.\u001b[0m\u001b[0mto_csv\u001b[0m\u001b[1;33m(\u001b[0m\u001b[1;34m'../data/predictions/predictions_all_data.csv'\u001b[0m\u001b[1;33m,\u001b[0m \u001b[0mindex\u001b[0m\u001b[1;33m=\u001b[0m\u001b[1;32mFalse\u001b[0m\u001b[1;33m)\u001b[0m\u001b[1;33m\u001b[0m\u001b[1;33m\u001b[0m\u001b[0m\n\u001b[0m",
      "\u001b[1;31mNameError\u001b[0m: name 'predictions' is not defined"
     ]
    }
   ],
   "source": [
    "predictions.to_csv('../data/predictions/predictions_all_data.csv', index=False)"
   ]
  }
 ],
 "metadata": {
  "kernelspec": {
   "display_name": "Python 3 (ipykernel)",
   "language": "python",
   "name": "python3"
  },
  "language_info": {
   "codemirror_mode": {
    "name": "ipython",
    "version": 3
   },
   "file_extension": ".py",
   "mimetype": "text/x-python",
   "name": "python",
   "nbconvert_exporter": "python",
   "pygments_lexer": "ipython3",
   "version": "3.9.7"
  }
 },
 "nbformat": 4,
 "nbformat_minor": 5
}
