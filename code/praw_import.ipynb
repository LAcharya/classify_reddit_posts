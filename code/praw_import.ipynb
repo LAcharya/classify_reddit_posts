{
 "cells": [
  {
   "cell_type": "code",
   "execution_count": 1,
   "id": "9e438138-0dc3-4ef9-b994-42072bfd5823",
   "metadata": {},
   "outputs": [],
   "source": [
    "import praw\n",
    "import pandas as pd"
   ]
  },
  {
   "cell_type": "code",
   "execution_count": 2,
   "id": "1c3e8255-eedd-4628-a846-69df697d094a",
   "metadata": {},
   "outputs": [],
   "source": [
    "reddit_read_only = praw.Reddit(client_id = 'aj5DzJ_Yj4VqmV6Db0rnhg',\n",
    "                              client_secret = '0g7ZUbU8cfhivjEB_BalDbYwH-rI_Q',\n",
    "                               user_agent = 'RPostsScraping'\n",
    "                              )"
   ]
  },
  {
   "cell_type": "code",
   "execution_count": 3,
   "id": "e9e86664-dd6e-4edb-83a8-8a8b074fdc94",
   "metadata": {},
   "outputs": [],
   "source": [
    "subreddit = reddit_read_only.subreddit('TalesFromTheFrontDesk')"
   ]
  },
  {
   "cell_type": "code",
   "execution_count": 4,
   "id": "000d906d-4ad8-4e3b-9ace-d09be4f9d4fd",
   "metadata": {},
   "outputs": [
    {
     "data": {
      "text/plain": [
       "'TalesFromTheFrontDesk'"
      ]
     },
     "execution_count": 4,
     "metadata": {},
     "output_type": "execute_result"
    }
   ],
   "source": [
    "subreddit.display_name"
   ]
  },
  {
   "cell_type": "code",
   "execution_count": 5,
   "id": "be5d8cb8-a765-4bd1-ace0-6f6f5e676fbf",
   "metadata": {},
   "outputs": [
    {
     "data": {
      "text/plain": [
       "'#### **FILTER POSTS BY LENGTH**\\n\\n[All](http://www.reddit.com/r/TalesFromTheFrontDesk/#af)\\n[Short](http://sf.reddit.com/r/TalesFromTheFrontDesk/#sf)\\n[Medium](http://mf.reddit.com/r/TalesFromTheFrontDesk/#mf)\\n[Long](http://lf.reddit.com/r/TalesFromTheFrontDesk/#lf)\\n[Epic](http://xf.reddit.com/r/TalesFromTheFrontDesk/#xf)\\n[None](http://nf.reddit.com/r/TalesFromTheFrontDesk/#nf)\\n\\n***\\n**[Tales from the Front Desk Wiki: A Guide for our Lurking Guests](https://www.reddit.com/r/TalesFromTheFrontDesk/wiki/index)**\\n\\n***\\n NEW **TFTFD DISCORD SERVER:** https://discord.gg/rhXzjNk \\n\\n***IF you want to assist in stopping Human Trafficking, [CLICK HERE](https://traffickcam.com/)***\\n\\n\\nWelcome to Tales from the Front Desk, a sub where Desk Jockeys and others in the hospitality come to vent/share stories of their battles at the desk. \\n\\nTHIS IS NOT THE PLACE TO ASK HOTEL RELATED QUESTIONS OR ADVICE. \\n\\nDO NOT MESSAGE MODS ABOUT GETTING YOUR POST APPROVED IF YOU DONT MEET THE KARMA REQUIREMENTS, THAT WILL RESULT IN AN IMMEDIATE BAN. READ THE RULES BEFORE POSTING.\\n\\n**This sub is MOSTLY for stories about hotel experiences, not for questions about hotels, see below for other hotel related subs that may be what you are looking for. Your post will be removed if its not a \"Tale\"**\\n\\n**You must have 100 Karma and an Account older than 30 days to Post/comment here**\\n\\n***\\n**If you have a question about hotels you can head over to /r/askhotels for all questions hotel related.**\\n\\n**RULES**\\n\\n**Stay anonymous! & Don\\'t be an asshole**\\n\\nDon\\'t post identifying information - This includes:\\n\\nProperty/franchise name and location \\n\\nOTA names\\n\\nSpecific rewards program names - if you\\'re referring to a rewards guest, just say \"top tier rewards guest\" or something similar. \\n\\nUsers should not try to guess what brand/franchise hotel someone works at.\\n\\nChange dates/locations of incident if you\\'re worried the offending guest may be a redditor and see your post. \\n\\nDO NOT POST ANY COMPANY NAMES AT ALL.\\n\\nPersonal attacks will not be tolerated and may result in an immediate ban. \\n\\n**For all rules: first incident is warning, second incident is a permanent ban.**\\n\\nAny user found to be posting personal information that could be used to identify (\"doxx\") a person will be instantly and permanently banned without warning. This includes but isn\\'t limited to names, email addresses, postal addresses and telephone numbers.\\n\\nNO POLITICS:\\nThis is not a subreddit for political discussion.\\n\\n***\\n\\n\\n**Other Rules**\\n\\n\\nmemes, reaction gifs, and other posts of that nature will be removed. However, [this post](http://www.reddit.com/r/TalesFromTheFrontDesk/comments/28ae5e/working_in_a_shady_motel_in_the_ozarks_how_i_lost/) is a hilarious and appropriate use of reaction gifs that enhance the story. Credit to /u/VictorClark\\n\\n**Please hit the report button if you see any violations of the rules to help bring to mod attention**\\n\\n***\\n\\n**For Hotel Employees (DO NOT MESSAGES THE MODS OF TFTFD)**\\n\\n/r/hotelemployees \\n\\n\\n\\n[hotelemployee modmail](http://www.reddit.com/message/compose?to=%2Fr%2Fhotelemployees) \\n\\n/r/nightaudit \\n\\n[nightaudit modmail](http://www.reddit.com/message/compose?to=%2Fr%2FNightAudit)\\n\\nThey are both private and proof is required for entry. message Mods for entry - preferred proof is an imgur of your username on a piece of paper in front of something hotellish **THEY DO NOT WANT PERSONAL INFO** just trying to keep those places for the employees only. \\n\\n***\\n\\n**Other tales from subs**\\n\\n/r/TalesFromFlightDesk\\n\\n/r/talesfromhousekeeping\\n\\n/r/talesfromretail\\n\\n/r/grocerystores\\n\\n/r/talesfromtechsupport\\n\\n/r/talesfromcallcenters\\n\\n/r/talesfromthepharmacy\\n\\n/r/talesfromyourserver\\n\\n/r/talesfromthecustomer\\n\\n/r/talesfromthepizzaguy\\n\\n/r/talesfromlifeguarding\\n\\n/r/talesfrommedicine\\n\\n/r/talesfromjobhunting\\n\\n/r/TalesfromyourHostess/\\n\\n r/talesfromthecashier\\n\\nr/TalesFromTheSalon\\n\\nr/hotelmemes'"
      ]
     },
     "execution_count": 5,
     "metadata": {},
     "output_type": "execute_result"
    }
   ],
   "source": [
    "subreddit.description"
   ]
  },
  {
   "cell_type": "code",
   "execution_count": 13,
   "id": "49006241-1d2e-49cf-b1fd-b48822925252",
   "metadata": {},
   "outputs": [],
   "source": [
    "subreddit = reddit_read_only.subreddit('TalesFromTheFrontDesk')\n",
    "\n",
    "\n",
    "posts = subreddit.new(limit=5000)\n",
    "\n",
    "posts_dict = {'Title':[],\n",
    "             'Text': [],\n",
    "             'Comments':[],\n",
    "             'Flair': []}\n",
    "\n",
    "for post in posts:\n",
    "    posts_dict['Title'].append(post.title)\n",
    "    posts_dict['Text'].append(post.selftext)\n",
    "    posts_dict['Comments'].append(post.num_comments)\n",
    "    posts_dict['Flair'].append(post.flair)\n",
    "\n",
    "\n",
    "front_desk = pd.DataFrame(posts_dict)\n",
    "front_desk.to_csv('./data/front_desk.csv')\n",
    "    \n",
    "\n",
    "\n",
    "\n",
    "    "
   ]
  },
  {
   "cell_type": "code",
   "execution_count": null,
   "id": "6afeae6b-fff1-4fdc-a985-81f3fd6fbbd0",
   "metadata": {},
   "outputs": [],
   "source": []
  }
 ],
 "metadata": {
  "kernelspec": {
   "display_name": "Python 3 (ipykernel)",
   "language": "python",
   "name": "python3"
  },
  "language_info": {
   "codemirror_mode": {
    "name": "ipython",
    "version": 3
   },
   "file_extension": ".py",
   "mimetype": "text/x-python",
   "name": "python",
   "nbconvert_exporter": "python",
   "pygments_lexer": "ipython3",
   "version": "3.9.7"
  }
 },
 "nbformat": 4,
 "nbformat_minor": 5
}
