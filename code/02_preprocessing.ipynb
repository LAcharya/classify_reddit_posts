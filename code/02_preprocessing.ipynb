{
 "cells": [
  {
   "cell_type": "markdown",
   "id": "df54d271-2ce1-4f16-ac87-fe9e889d8fac",
   "metadata": {},
   "source": [
    "# Preprocessing and Train-Test Split"
   ]
  },
  {
   "cell_type": "markdown",
   "id": "cb82b7d6-a462-4b8e-bfc0-acae90fe7cf6",
   "metadata": {},
   "source": [
    "In this notebook, I take a quick look at my clean dataset. I binarize the target variable to 0 and 1. I also Lemmatize the title since I was interested in using that as a feature, so that it is there if I need it. I finally split my data into training and testing sets. "
   ]
  },
  {
   "cell_type": "code",
   "execution_count": 83,
   "id": "ca376441-593b-45e1-b251-be8f18e7c006",
   "metadata": {},
   "outputs": [],
   "source": [
    "import pandas as pd\n",
    "import reddit_functions as rf\n",
    "\n",
    "from sklearn.model_selection import train_test_split\n"
   ]
  },
  {
   "cell_type": "code",
   "execution_count": 84,
   "id": "66d70ff1-480b-4429-8618-293932a6af95",
   "metadata": {},
   "outputs": [],
   "source": [
    "# import data\n",
    "red_df = pd.read_csv('../data/all_posts_cleaned.csv')"
   ]
  },
  {
   "cell_type": "code",
   "execution_count": 85,
   "id": "6cf8766e-8354-4452-9742-d6b26428d4e5",
   "metadata": {},
   "outputs": [
    {
     "data": {
      "text/plain": [
       "subreddit       0.0\n",
       "title           0.0\n",
       "selftext        0.0\n",
       "created_utc     0.0\n",
       "num_comments    0.0\n",
       "post_length     0.0\n",
       "dtype: float64"
      ]
     },
     "execution_count": 85,
     "metadata": {},
     "output_type": "execute_result"
    }
   ],
   "source": [
    "red_df.isna().mean()"
   ]
  },
  {
   "cell_type": "code",
   "execution_count": 86,
   "id": "dfbda580-3bbe-472f-8921-52d3d382f781",
   "metadata": {},
   "outputs": [
    {
     "data": {
      "text/plain": [
       "TalesFromTheFrontDesk    4999\n",
       "talesfromtechsupport     4886\n",
       "Name: subreddit, dtype: int64"
      ]
     },
     "execution_count": 86,
     "metadata": {},
     "output_type": "execute_result"
    }
   ],
   "source": [
    "# binarize target\n",
    "red_df['subreddit'].value_counts()"
   ]
  },
  {
   "cell_type": "code",
   "execution_count": 87,
   "id": "dd5a62e1-516f-4128-904f-2b04ddf108a2",
   "metadata": {},
   "outputs": [
    {
     "data": {
      "text/plain": [
       "0    4999\n",
       "1    4886\n",
       "Name: subreddit, dtype: int64"
      ]
     },
     "execution_count": 87,
     "metadata": {},
     "output_type": "execute_result"
    }
   ],
   "source": [
    "red_df['subreddit'].replace({'TalesFromTheFrontDesk':0, 'talesfromtechsupport':1}, inplace=True)\n",
    "red_df['subreddit'].value_counts()"
   ]
  },
  {
   "cell_type": "code",
   "execution_count": 88,
   "id": "3c52d5f9-aa0c-4933-8e8f-2d8434f165ef",
   "metadata": {},
   "outputs": [],
   "source": [
    "# save binarized target to file\n",
    "\n",
    "red_df.to_csv('../data/all_posts_cleaned.csv', index=False)"
   ]
  },
  {
   "cell_type": "markdown",
   "id": "6861e493-1135-4819-b222-0616c5521d9d",
   "metadata": {},
   "source": [
    "### lemmatize and remove stop words from titles"
   ]
  },
  {
   "cell_type": "code",
   "execution_count": 78,
   "id": "9a8153ef-8853-46ec-b363-0a63cadb2623",
   "metadata": {},
   "outputs": [],
   "source": [
    "red_df['title_lemmatized'] = red_df['title'].apply(rf.lemmatize)"
   ]
  },
  {
   "cell_type": "code",
   "execution_count": 79,
   "id": "882217bb-777f-4659-8518-a6f19a26db67",
   "metadata": {},
   "outputs": [
    {
     "data": {
      "text/html": [
       "<div>\n",
       "<style scoped>\n",
       "    .dataframe tbody tr th:only-of-type {\n",
       "        vertical-align: middle;\n",
       "    }\n",
       "\n",
       "    .dataframe tbody tr th {\n",
       "        vertical-align: top;\n",
       "    }\n",
       "\n",
       "    .dataframe thead th {\n",
       "        text-align: right;\n",
       "    }\n",
       "</style>\n",
       "<table border=\"1\" class=\"dataframe\">\n",
       "  <thead>\n",
       "    <tr style=\"text-align: right;\">\n",
       "      <th></th>\n",
       "      <th>subreddit</th>\n",
       "      <th>title</th>\n",
       "      <th>selftext</th>\n",
       "      <th>created_utc</th>\n",
       "      <th>num_comments</th>\n",
       "      <th>post_length</th>\n",
       "      <th>title_lemmatized</th>\n",
       "    </tr>\n",
       "  </thead>\n",
       "  <tbody>\n",
       "    <tr>\n",
       "      <th>0</th>\n",
       "      <td>0</td>\n",
       "      <td>Update from my post about my coworker</td>\n",
       "      <td>Here is the original [post](https://www.reddit...</td>\n",
       "      <td>1648499626</td>\n",
       "      <td>0</td>\n",
       "      <td>189</td>\n",
       "      <td>Update post coworker</td>\n",
       "    </tr>\n",
       "    <tr>\n",
       "      <th>1</th>\n",
       "      <td>0</td>\n",
       "      <td>You’re forcing me!</td>\n",
       "      <td>So, for context, I work at a 3-star-ish busine...</td>\n",
       "      <td>1648471124</td>\n",
       "      <td>0</td>\n",
       "      <td>501</td>\n",
       "      <td>You’re forcing me!</td>\n",
       "    </tr>\n",
       "    <tr>\n",
       "      <th>2</th>\n",
       "      <td>0</td>\n",
       "      <td>“I actually have to read what I’m signing for?”</td>\n",
       "      <td>So this literally happened as I’m walking in a...</td>\n",
       "      <td>1648445630</td>\n",
       "      <td>0</td>\n",
       "      <td>305</td>\n",
       "      <td>“I actually read I’m signing for?”</td>\n",
       "    </tr>\n",
       "    <tr>\n",
       "      <th>3</th>\n",
       "      <td>0</td>\n",
       "      <td>The Straw(s) That Broke the Camel's Back</td>\n",
       "      <td>Hey guys, it's been a while since I've posted....</td>\n",
       "      <td>1648441064</td>\n",
       "      <td>0</td>\n",
       "      <td>1185</td>\n",
       "      <td>The Straw(s) That Broke Camel's Back</td>\n",
       "    </tr>\n",
       "    <tr>\n",
       "      <th>4</th>\n",
       "      <td>0</td>\n",
       "      <td>DM Report Ideas?</td>\n",
       "      <td>Hello Front Desk,\\n\\nApologies if this is agai...</td>\n",
       "      <td>1648435782</td>\n",
       "      <td>0</td>\n",
       "      <td>179</td>\n",
       "      <td>DM Report Ideas?</td>\n",
       "    </tr>\n",
       "  </tbody>\n",
       "</table>\n",
       "</div>"
      ],
      "text/plain": [
       "   subreddit                                            title  \\\n",
       "0          0            Update from my post about my coworker   \n",
       "1          0                               You’re forcing me!   \n",
       "2          0  “I actually have to read what I’m signing for?”   \n",
       "3          0         The Straw(s) That Broke the Camel's Back   \n",
       "4          0                                 DM Report Ideas?   \n",
       "\n",
       "                                            selftext  created_utc  \\\n",
       "0  Here is the original [post](https://www.reddit...   1648499626   \n",
       "1  So, for context, I work at a 3-star-ish busine...   1648471124   \n",
       "2  So this literally happened as I’m walking in a...   1648445630   \n",
       "3  Hey guys, it's been a while since I've posted....   1648441064   \n",
       "4  Hello Front Desk,\\n\\nApologies if this is agai...   1648435782   \n",
       "\n",
       "   num_comments  post_length                      title_lemmatized  \n",
       "0             0          189                  Update post coworker  \n",
       "1             0          501                    You’re forcing me!  \n",
       "2             0          305    “I actually read I’m signing for?”  \n",
       "3             0         1185  The Straw(s) That Broke Camel's Back  \n",
       "4             0          179                      DM Report Ideas?  "
      ]
     },
     "execution_count": 79,
     "metadata": {},
     "output_type": "execute_result"
    }
   ],
   "source": [
    "red_df.head()"
   ]
  },
  {
   "cell_type": "markdown",
   "id": "0052d2c2-fa02-4afc-b94e-12037f7666fc",
   "metadata": {},
   "source": [
    "### Split and save train and test sets"
   ]
  },
  {
   "cell_type": "code",
   "execution_count": 80,
   "id": "e6aae994-0f63-4291-be27-15449b804cb8",
   "metadata": {},
   "outputs": [],
   "source": [
    "X = red_df['selftext']\n",
    "y = red_df['subreddit']"
   ]
  },
  {
   "cell_type": "code",
   "execution_count": 81,
   "id": "4af49189-7f5a-4dc9-80c6-da2c9bd30c2f",
   "metadata": {},
   "outputs": [],
   "source": [
    "X_train, X_test, y_train, y_test = train_test_split(X, y, random_state=42, stratify=y, test_size=0.3)\n"
   ]
  },
  {
   "cell_type": "code",
   "execution_count": 82,
   "id": "31a576a4-7b6d-4e21-9e05-668004eab0eb",
   "metadata": {},
   "outputs": [],
   "source": [
    "X_train.to_csv('../data/train_test_sets/X_train.csv', index=False)\n",
    "y_train.to_csv('../data/train_test_sets/y_train.csv', index=False)\n",
    "X_test.to_csv('../data/train_test_sets/X_test.csv', index=False)\n",
    "y_test.to_csv('../data/train_test_sets/y_test.csv', index=False)"
   ]
  }
 ],
 "metadata": {
  "kernelspec": {
   "display_name": "Python 3 (ipykernel)",
   "language": "python",
   "name": "python3"
  },
  "language_info": {
   "codemirror_mode": {
    "name": "ipython",
    "version": 3
   },
   "file_extension": ".py",
   "mimetype": "text/x-python",
   "name": "python",
   "nbconvert_exporter": "python",
   "pygments_lexer": "ipython3",
   "version": "3.9.7"
  }
 },
 "nbformat": 4,
 "nbformat_minor": 5
}
